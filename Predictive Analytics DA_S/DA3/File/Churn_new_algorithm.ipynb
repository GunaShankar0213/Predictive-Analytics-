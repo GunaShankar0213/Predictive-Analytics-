{
  "nbformat": 4,
  "nbformat_minor": 0,
  "metadata": {
    "colab": {
      "provenance": []
    },
    "kernelspec": {
      "name": "python3",
      "display_name": "Python 3"
    },
    "language_info": {
      "name": "python"
    }
  },
  "cells": [
    {
      "cell_type": "markdown",
      "source": [
        "#DA3\n",
        "Churn analysis - Telco-Customer-Churn \\\n",
        "GUNA SHANKAR S \\\n",
        "20MIA1162"
      ],
      "metadata": {
        "id": "5Vs3A87pOExU"
      }
    },
    {
      "cell_type": "code",
      "execution_count": null,
      "metadata": {
        "id": "I9tmOSkdKhKM"
      },
      "outputs": [],
      "source": [
        "import pandas as pd\n",
        "import numpy as np\n",
        "import matplotlib.pyplot as plt\n",
        "import seaborn as sb"
      ]
    },
    {
      "cell_type": "markdown",
      "source": [
        "**Independent variables**:\\\n",
        "[ ‘customerID’, ‘gender’, ‘SeniorCitizen’, ‘Partner’, ‘Dependents’, ‘tenure’, ‘PhoneService’,  ‘MultipleLines’,  ‘InternetService’, ‘OnlineSecurity’,  ‘OnlineBackup’,  ‘DeviceProtection’,  ‘TechSupport’, ‘StreamingTV’,  ‘StreamingMovies’,  ‘Contract’,  ‘PaperlessBilling’, ‘PaymentMethod’,  ‘MonthlyCharges’,  ‘TotalCharges’  ]\\\n",
        "\\\n",
        "**Dependent variables**:-\n",
        "[ ‘Churn’ ]"
      ],
      "metadata": {
        "id": "SRYHj8tABcsj"
      }
    },
    {
      "cell_type": "code",
      "source": [
        "# use pandas to import csv file\n",
        "df = pd.read_csv('/content/WA_Fn-UseC_-Telco-Customer-Churn.csv')\n",
        "# too see max columns\n",
        "pd.set_option('display.max_columns',None)\n",
        "df.head(8)\n",
        "df.info()"
      ],
      "metadata": {
        "colab": {
          "base_uri": "https://localhost:8080/"
        },
        "id": "6ZWXe59CBfBA",
        "outputId": "d544fd36-f563-4a8e-f9ff-4b146c48efe3"
      },
      "execution_count": null,
      "outputs": [
        {
          "output_type": "stream",
          "name": "stdout",
          "text": [
            "<class 'pandas.core.frame.DataFrame'>\n",
            "RangeIndex: 7043 entries, 0 to 7042\n",
            "Data columns (total 21 columns):\n",
            " #   Column            Non-Null Count  Dtype  \n",
            "---  ------            --------------  -----  \n",
            " 0   customerID        7043 non-null   object \n",
            " 1   gender            7043 non-null   object \n",
            " 2   SeniorCitizen     7043 non-null   int64  \n",
            " 3   Partner           7043 non-null   object \n",
            " 4   Dependents        7043 non-null   object \n",
            " 5   tenure            7043 non-null   int64  \n",
            " 6   PhoneService      7043 non-null   object \n",
            " 7   MultipleLines     7043 non-null   object \n",
            " 8   InternetService   7043 non-null   object \n",
            " 9   OnlineSecurity    7043 non-null   object \n",
            " 10  OnlineBackup      7043 non-null   object \n",
            " 11  DeviceProtection  7043 non-null   object \n",
            " 12  TechSupport       7043 non-null   object \n",
            " 13  StreamingTV       7043 non-null   object \n",
            " 14  StreamingMovies   7043 non-null   object \n",
            " 15  Contract          7043 non-null   object \n",
            " 16  PaperlessBilling  7043 non-null   object \n",
            " 17  PaymentMethod     7043 non-null   object \n",
            " 18  MonthlyCharges    7043 non-null   float64\n",
            " 19  TotalCharges      7043 non-null   object \n",
            " 20  Churn             7043 non-null   object \n",
            "dtypes: float64(1), int64(2), object(18)\n",
            "memory usage: 1.1+ MB\n"
          ]
        }
      ]
    },
    {
      "cell_type": "code",
      "source": [
        "df.describe() "
      ],
      "metadata": {
        "colab": {
          "base_uri": "https://localhost:8080/",
          "height": 300
        },
        "id": "w2IkXgpaCS-s",
        "outputId": "969dc12c-7576-43fc-ce86-c3bd108fc7fc"
      },
      "execution_count": null,
      "outputs": [
        {
          "output_type": "execute_result",
          "data": {
            "text/plain": [
              "       SeniorCitizen       tenure  MonthlyCharges\n",
              "count    7043.000000  7043.000000     7043.000000\n",
              "mean        0.162147    32.371149       64.761692\n",
              "std         0.368612    24.559481       30.090047\n",
              "min         0.000000     0.000000       18.250000\n",
              "25%         0.000000     9.000000       35.500000\n",
              "50%         0.000000    29.000000       70.350000\n",
              "75%         0.000000    55.000000       89.850000\n",
              "max         1.000000    72.000000      118.750000"
            ],
            "text/html": [
              "\n",
              "  <div id=\"df-a5161238-bb56-4c87-b266-6270371c00f0\">\n",
              "    <div class=\"colab-df-container\">\n",
              "      <div>\n",
              "<style scoped>\n",
              "    .dataframe tbody tr th:only-of-type {\n",
              "        vertical-align: middle;\n",
              "    }\n",
              "\n",
              "    .dataframe tbody tr th {\n",
              "        vertical-align: top;\n",
              "    }\n",
              "\n",
              "    .dataframe thead th {\n",
              "        text-align: right;\n",
              "    }\n",
              "</style>\n",
              "<table border=\"1\" class=\"dataframe\">\n",
              "  <thead>\n",
              "    <tr style=\"text-align: right;\">\n",
              "      <th></th>\n",
              "      <th>SeniorCitizen</th>\n",
              "      <th>tenure</th>\n",
              "      <th>MonthlyCharges</th>\n",
              "    </tr>\n",
              "  </thead>\n",
              "  <tbody>\n",
              "    <tr>\n",
              "      <th>count</th>\n",
              "      <td>7043.000000</td>\n",
              "      <td>7043.000000</td>\n",
              "      <td>7043.000000</td>\n",
              "    </tr>\n",
              "    <tr>\n",
              "      <th>mean</th>\n",
              "      <td>0.162147</td>\n",
              "      <td>32.371149</td>\n",
              "      <td>64.761692</td>\n",
              "    </tr>\n",
              "    <tr>\n",
              "      <th>std</th>\n",
              "      <td>0.368612</td>\n",
              "      <td>24.559481</td>\n",
              "      <td>30.090047</td>\n",
              "    </tr>\n",
              "    <tr>\n",
              "      <th>min</th>\n",
              "      <td>0.000000</td>\n",
              "      <td>0.000000</td>\n",
              "      <td>18.250000</td>\n",
              "    </tr>\n",
              "    <tr>\n",
              "      <th>25%</th>\n",
              "      <td>0.000000</td>\n",
              "      <td>9.000000</td>\n",
              "      <td>35.500000</td>\n",
              "    </tr>\n",
              "    <tr>\n",
              "      <th>50%</th>\n",
              "      <td>0.000000</td>\n",
              "      <td>29.000000</td>\n",
              "      <td>70.350000</td>\n",
              "    </tr>\n",
              "    <tr>\n",
              "      <th>75%</th>\n",
              "      <td>0.000000</td>\n",
              "      <td>55.000000</td>\n",
              "      <td>89.850000</td>\n",
              "    </tr>\n",
              "    <tr>\n",
              "      <th>max</th>\n",
              "      <td>1.000000</td>\n",
              "      <td>72.000000</td>\n",
              "      <td>118.750000</td>\n",
              "    </tr>\n",
              "  </tbody>\n",
              "</table>\n",
              "</div>\n",
              "      <button class=\"colab-df-convert\" onclick=\"convertToInteractive('df-a5161238-bb56-4c87-b266-6270371c00f0')\"\n",
              "              title=\"Convert this dataframe to an interactive table.\"\n",
              "              style=\"display:none;\">\n",
              "        \n",
              "  <svg xmlns=\"http://www.w3.org/2000/svg\" height=\"24px\"viewBox=\"0 0 24 24\"\n",
              "       width=\"24px\">\n",
              "    <path d=\"M0 0h24v24H0V0z\" fill=\"none\"/>\n",
              "    <path d=\"M18.56 5.44l.94 2.06.94-2.06 2.06-.94-2.06-.94-.94-2.06-.94 2.06-2.06.94zm-11 1L8.5 8.5l.94-2.06 2.06-.94-2.06-.94L8.5 2.5l-.94 2.06-2.06.94zm10 10l.94 2.06.94-2.06 2.06-.94-2.06-.94-.94-2.06-.94 2.06-2.06.94z\"/><path d=\"M17.41 7.96l-1.37-1.37c-.4-.4-.92-.59-1.43-.59-.52 0-1.04.2-1.43.59L10.3 9.45l-7.72 7.72c-.78.78-.78 2.05 0 2.83L4 21.41c.39.39.9.59 1.41.59.51 0 1.02-.2 1.41-.59l7.78-7.78 2.81-2.81c.8-.78.8-2.07 0-2.86zM5.41 20L4 18.59l7.72-7.72 1.47 1.35L5.41 20z\"/>\n",
              "  </svg>\n",
              "      </button>\n",
              "      \n",
              "  <style>\n",
              "    .colab-df-container {\n",
              "      display:flex;\n",
              "      flex-wrap:wrap;\n",
              "      gap: 12px;\n",
              "    }\n",
              "\n",
              "    .colab-df-convert {\n",
              "      background-color: #E8F0FE;\n",
              "      border: none;\n",
              "      border-radius: 50%;\n",
              "      cursor: pointer;\n",
              "      display: none;\n",
              "      fill: #1967D2;\n",
              "      height: 32px;\n",
              "      padding: 0 0 0 0;\n",
              "      width: 32px;\n",
              "    }\n",
              "\n",
              "    .colab-df-convert:hover {\n",
              "      background-color: #E2EBFA;\n",
              "      box-shadow: 0px 1px 2px rgba(60, 64, 67, 0.3), 0px 1px 3px 1px rgba(60, 64, 67, 0.15);\n",
              "      fill: #174EA6;\n",
              "    }\n",
              "\n",
              "    [theme=dark] .colab-df-convert {\n",
              "      background-color: #3B4455;\n",
              "      fill: #D2E3FC;\n",
              "    }\n",
              "\n",
              "    [theme=dark] .colab-df-convert:hover {\n",
              "      background-color: #434B5C;\n",
              "      box-shadow: 0px 1px 3px 1px rgba(0, 0, 0, 0.15);\n",
              "      filter: drop-shadow(0px 1px 2px rgba(0, 0, 0, 0.3));\n",
              "      fill: #FFFFFF;\n",
              "    }\n",
              "  </style>\n",
              "\n",
              "      <script>\n",
              "        const buttonEl =\n",
              "          document.querySelector('#df-a5161238-bb56-4c87-b266-6270371c00f0 button.colab-df-convert');\n",
              "        buttonEl.style.display =\n",
              "          google.colab.kernel.accessAllowed ? 'block' : 'none';\n",
              "\n",
              "        async function convertToInteractive(key) {\n",
              "          const element = document.querySelector('#df-a5161238-bb56-4c87-b266-6270371c00f0');\n",
              "          const dataTable =\n",
              "            await google.colab.kernel.invokeFunction('convertToInteractive',\n",
              "                                                     [key], {});\n",
              "          if (!dataTable) return;\n",
              "\n",
              "          const docLinkHtml = 'Like what you see? Visit the ' +\n",
              "            '<a target=\"_blank\" href=https://colab.research.google.com/notebooks/data_table.ipynb>data table notebook</a>'\n",
              "            + ' to learn more about interactive tables.';\n",
              "          element.innerHTML = '';\n",
              "          dataTable['output_type'] = 'display_data';\n",
              "          await google.colab.output.renderOutput(dataTable, element);\n",
              "          const docLink = document.createElement('div');\n",
              "          docLink.innerHTML = docLinkHtml;\n",
              "          element.appendChild(docLink);\n",
              "        }\n",
              "      </script>\n",
              "    </div>\n",
              "  </div>\n",
              "  "
            ]
          },
          "metadata": {},
          "execution_count": 3
        }
      ]
    },
    {
      "cell_type": "code",
      "source": [
        "# we didn't require customerID so we drop it\n",
        "df = df.drop('customerID',axis=1)"
      ],
      "metadata": {
        "id": "QELxNTv7CaXM"
      },
      "execution_count": null,
      "outputs": []
    },
    {
      "cell_type": "code",
      "source": [
        "#count of string value into the column.\n",
        "count=0\n",
        "for i in df.TotalCharges:\n",
        "    if i==' ':\n",
        "        count+=1\n",
        "print('count of empty string:- ',count)\n",
        "#we will replace this empty string to nan values\n",
        "df['TotalCharges'] = df['TotalCharges'].replace(\" \",np.nan)\n",
        "# typecasting of the TotalCharges column\n",
        "df['TotalCharges'] = df['TotalCharges'].astype(float)"
      ],
      "metadata": {
        "colab": {
          "base_uri": "https://localhost:8080/"
        },
        "id": "MrPJSL7wCb5-",
        "outputId": "524d00bf-390d-4a9d-9687-f4b34a066abd"
      },
      "execution_count": null,
      "outputs": [
        {
          "output_type": "stream",
          "name": "stdout",
          "text": [
            "count of empty string:-  11\n"
          ]
        }
      ]
    },
    {
      "cell_type": "code",
      "source": [
        "# checking null value\n",
        "df.isnull().sum()"
      ],
      "metadata": {
        "colab": {
          "base_uri": "https://localhost:8080/"
        },
        "id": "cRldHJ12Cd8q",
        "outputId": "086e8bd7-2110-47e0-9230-1ba769952697"
      },
      "execution_count": null,
      "outputs": [
        {
          "output_type": "execute_result",
          "data": {
            "text/plain": [
              "gender               0\n",
              "SeniorCitizen        0\n",
              "Partner              0\n",
              "Dependents           0\n",
              "tenure               0\n",
              "PhoneService         0\n",
              "MultipleLines        0\n",
              "InternetService      0\n",
              "OnlineSecurity       0\n",
              "OnlineBackup         0\n",
              "DeviceProtection     0\n",
              "TechSupport          0\n",
              "StreamingTV          0\n",
              "StreamingMovies      0\n",
              "Contract             0\n",
              "PaperlessBilling     0\n",
              "PaymentMethod        0\n",
              "MonthlyCharges       0\n",
              "TotalCharges        11\n",
              "Churn                0\n",
              "dtype: int64"
            ]
          },
          "metadata": {},
          "execution_count": 6
        }
      ]
    },
    {
      "cell_type": "code",
      "source": [
        "# fill null values with mean\n",
        "df['TotalCharges'] = df['TotalCharges'].fillna(df['TotalCharges'].mean())"
      ],
      "metadata": {
        "id": "dc08j3VECf72"
      },
      "execution_count": null,
      "outputs": []
    },
    {
      "cell_type": "code",
      "source": [
        "#numerical variables\n",
        "\n",
        "num = list(df.select_dtypes(include=['int64','float64']).keys())\n",
        "\n",
        "#categorical variables\n",
        "\n",
        "cat = list(df.select_dtypes(include='O').keys())\n",
        "\n",
        "print(cat)\n",
        "\n",
        "print(num)"
      ],
      "metadata": {
        "colab": {
          "base_uri": "https://localhost:8080/"
        },
        "id": "reedLwRiCivt",
        "outputId": "e947105c-b41e-4702-803b-b00f569e1cd2"
      },
      "execution_count": null,
      "outputs": [
        {
          "output_type": "stream",
          "name": "stdout",
          "text": [
            "['gender', 'Partner', 'Dependents', 'PhoneService', 'MultipleLines', 'InternetService', 'OnlineSecurity', 'OnlineBackup', 'DeviceProtection', 'TechSupport', 'StreamingTV', 'StreamingMovies', 'Contract', 'PaperlessBilling', 'PaymentMethod', 'Churn']\n",
            "['SeniorCitizen', 'tenure', 'MonthlyCharges', 'TotalCharges']\n"
          ]
        }
      ]
    },
    {
      "cell_type": "code",
      "source": [
        "# value_counts of the categorical columns\n",
        "for i in cat:\n",
        "    print(df[i].value_counts())\n",
        "# as we see that there is extra categories which we have to convert it into No.\n",
        "df.MultipleLines = df.MultipleLines.replace('No phone service','No')\n",
        "df.OnlineSecurity = df.OnlineSecurity.replace('No internet service','No')\n",
        "df.OnlineBackup = df.OnlineBackup.replace('No internet service','No')\n",
        "df.DeviceProtection = df.DeviceProtection.replace('No internet service','No')\n",
        "df.TechSupport = df.TechSupport.replace('No internet service','No')\n",
        "df.StreamingTV = df.StreamingTV.replace('No internet service','No')\n",
        "df.StreamingMovies = df.StreamingMovies.replace('No internet service','No')"
      ],
      "metadata": {
        "colab": {
          "base_uri": "https://localhost:8080/"
        },
        "id": "nxg8gFjEClhr",
        "outputId": "2a553804-b37e-4107-8bb3-a3f6574f3fab"
      },
      "execution_count": null,
      "outputs": [
        {
          "output_type": "stream",
          "name": "stdout",
          "text": [
            "Male      3555\n",
            "Female    3488\n",
            "Name: gender, dtype: int64\n",
            "No     3641\n",
            "Yes    3402\n",
            "Name: Partner, dtype: int64\n",
            "No     4933\n",
            "Yes    2110\n",
            "Name: Dependents, dtype: int64\n",
            "Yes    6361\n",
            "No      682\n",
            "Name: PhoneService, dtype: int64\n",
            "No                  3390\n",
            "Yes                 2971\n",
            "No phone service     682\n",
            "Name: MultipleLines, dtype: int64\n",
            "Fiber optic    3096\n",
            "DSL            2421\n",
            "No             1526\n",
            "Name: InternetService, dtype: int64\n",
            "No                     3498\n",
            "Yes                    2019\n",
            "No internet service    1526\n",
            "Name: OnlineSecurity, dtype: int64\n",
            "No                     3088\n",
            "Yes                    2429\n",
            "No internet service    1526\n",
            "Name: OnlineBackup, dtype: int64\n",
            "No                     3095\n",
            "Yes                    2422\n",
            "No internet service    1526\n",
            "Name: DeviceProtection, dtype: int64\n",
            "No                     3473\n",
            "Yes                    2044\n",
            "No internet service    1526\n",
            "Name: TechSupport, dtype: int64\n",
            "No                     2810\n",
            "Yes                    2707\n",
            "No internet service    1526\n",
            "Name: StreamingTV, dtype: int64\n",
            "No                     2785\n",
            "Yes                    2732\n",
            "No internet service    1526\n",
            "Name: StreamingMovies, dtype: int64\n",
            "Month-to-month    3875\n",
            "Two year          1695\n",
            "One year          1473\n",
            "Name: Contract, dtype: int64\n",
            "Yes    4171\n",
            "No     2872\n",
            "Name: PaperlessBilling, dtype: int64\n",
            "Electronic check             2365\n",
            "Mailed check                 1612\n",
            "Bank transfer (automatic)    1544\n",
            "Credit card (automatic)      1522\n",
            "Name: PaymentMethod, dtype: int64\n",
            "No     5174\n",
            "Yes    1869\n",
            "Name: Churn, dtype: int64\n"
          ]
        }
      ]
    },
    {
      "cell_type": "code",
      "source": [
        "# we have to handel this all categorical variables\n",
        "# we will convert Yes = 1 and No = 0\n",
        "for i in cat:\n",
        "    df[i] = df[i].replace('Yes',1)\n",
        "    df[i] = df[i].replace('No',0)"
      ],
      "metadata": {
        "id": "01s_rXUvCnx-"
      },
      "execution_count": null,
      "outputs": []
    },
    {
      "cell_type": "code",
      "source": [
        "# we will convert male = 1 and female = 0\n",
        "df.gender = df.gender.replace('Male',1)\n",
        "df.gender = df.gender.replace('Female',0)"
      ],
      "metadata": {
        "id": "IkN7lIWwCqkw"
      },
      "execution_count": null,
      "outputs": []
    },
    {
      "cell_type": "code",
      "source": [
        "from sklearn.preprocessing import LabelEncoder\n",
        "\n",
        "label = LabelEncoder()\n",
        "\n",
        "# Convert any integer values to strings before applying LabelEncoder\n",
        "df['InternetService'] = df['InternetService'].astype(str)\n",
        "df['Contract'] = df['Contract'].astype(str)\n",
        "df['PaymentMethod'] = df['PaymentMethod'].astype(str)\n",
        "\n",
        "# Apply LabelEncoder\n",
        "df['InternetService'] = label.fit_transform(df['InternetService'])\n",
        "df['Contract'] = label.fit_transform(df['Contract'])\n",
        "df['PaymentMethod'] = label.fit_transform(df['PaymentMethod'])\n"
      ],
      "metadata": {
        "id": "iAxgISXzCsrh"
      },
      "execution_count": null,
      "outputs": []
    },
    {
      "cell_type": "code",
      "source": [
        "scale_cols = ['tenure','MonthlyCharges','TotalCharges']\n",
        "from sklearn.preprocessing import MinMaxScaler\n",
        "scale = MinMaxScaler()\n",
        "df[scale_cols] = scale.fit_transform(df[scale_cols])"
      ],
      "metadata": {
        "id": "YVTokSRFCv8z"
      },
      "execution_count": null,
      "outputs": []
    },
    {
      "cell_type": "code",
      "source": [
        "x = df.drop('Churn',axis=1)\n",
        "y = df['Churn']"
      ],
      "metadata": {
        "id": "3PCpajuCDLWp"
      },
      "execution_count": null,
      "outputs": []
    },
    {
      "cell_type": "code",
      "source": [
        "from sklearn.model_selection import train_test_split\n",
        "xtrain,xtest,ytrain,ytest = train_test_split(x,y,test_size=0.2,random_state=10)\n",
        "print(xtrain.shape)\n",
        "print(xtest.shape)"
      ],
      "metadata": {
        "colab": {
          "base_uri": "https://localhost:8080/"
        },
        "id": "xXnBujRHDNv0",
        "outputId": "a702a538-51cf-46db-e8cf-54d8cfe18f5a"
      },
      "execution_count": null,
      "outputs": [
        {
          "output_type": "stream",
          "name": "stdout",
          "text": [
            "(5634, 19)\n",
            "(1409, 19)\n"
          ]
        }
      ]
    },
    {
      "cell_type": "code",
      "source": [
        "# now we create our artificial neural net.\n",
        "# import tensorflow\n",
        "import tensorflow as tf\n",
        "#import keras \n",
        "from tensorflow import keras"
      ],
      "metadata": {
        "id": "gQ_Gps1oDP8I"
      },
      "execution_count": null,
      "outputs": []
    },
    {
      "cell_type": "code",
      "source": [
        "model = keras.Sequential([\n",
        "    keras.layers.Dense(19, input_shape=(19,), activation='relu'),\n",
        "    keras.layers.Dense(15, activation='relu'),\n",
        "    keras.layers.Dense(10,activation = 'relu'),\n",
        "    keras.layers.Dense(1, activation='sigmoid')\n",
        "]\n",
        ")"
      ],
      "metadata": {
        "id": "nei7VGz5DR9X"
      },
      "execution_count": null,
      "outputs": []
    },
    {
      "cell_type": "code",
      "source": [
        "model.compile(optimizer = 'adam',\n",
        "             loss = 'binary_crossentropy',\n",
        "             metrics = ['accuracy'])\n",
        "# now we fit our model to training data\n",
        "model.fit(xtrain,ytrain,epochs=100)"
      ],
      "metadata": {
        "colab": {
          "base_uri": "https://localhost:8080/"
        },
        "id": "WcsebBS5DVtH",
        "outputId": "d3fd1f32-6659-43f5-9ad7-c5a5c11cd4ce"
      },
      "execution_count": null,
      "outputs": [
        {
          "output_type": "stream",
          "name": "stdout",
          "text": [
            "Epoch 1/100\n",
            "177/177 [==============================] - 2s 2ms/step - loss: 0.5318 - accuracy: 0.7290\n",
            "Epoch 2/100\n",
            "177/177 [==============================] - 0s 2ms/step - loss: 0.4551 - accuracy: 0.7364\n",
            "Epoch 3/100\n",
            "177/177 [==============================] - 0s 3ms/step - loss: 0.4452 - accuracy: 0.7813\n",
            "Epoch 4/100\n",
            "177/177 [==============================] - 0s 3ms/step - loss: 0.4423 - accuracy: 0.7854\n",
            "Epoch 5/100\n",
            "177/177 [==============================] - 0s 2ms/step - loss: 0.4375 - accuracy: 0.7911\n",
            "Epoch 6/100\n",
            "177/177 [==============================] - 0s 2ms/step - loss: 0.4349 - accuracy: 0.7929\n",
            "Epoch 7/100\n",
            "177/177 [==============================] - 0s 3ms/step - loss: 0.4325 - accuracy: 0.7955\n",
            "Epoch 8/100\n",
            "177/177 [==============================] - 0s 2ms/step - loss: 0.4291 - accuracy: 0.7957\n",
            "Epoch 9/100\n",
            "177/177 [==============================] - 0s 2ms/step - loss: 0.4238 - accuracy: 0.7961\n",
            "Epoch 10/100\n",
            "177/177 [==============================] - 0s 2ms/step - loss: 0.4210 - accuracy: 0.7980\n",
            "Epoch 11/100\n",
            "177/177 [==============================] - 0s 2ms/step - loss: 0.4196 - accuracy: 0.8033\n",
            "Epoch 12/100\n",
            "177/177 [==============================] - 0s 2ms/step - loss: 0.4180 - accuracy: 0.8042\n",
            "Epoch 13/100\n",
            "177/177 [==============================] - 0s 2ms/step - loss: 0.4173 - accuracy: 0.8040\n",
            "Epoch 14/100\n",
            "177/177 [==============================] - 0s 2ms/step - loss: 0.4161 - accuracy: 0.8033\n",
            "Epoch 15/100\n",
            "177/177 [==============================] - 0s 2ms/step - loss: 0.4150 - accuracy: 0.8053\n",
            "Epoch 16/100\n",
            "177/177 [==============================] - 0s 2ms/step - loss: 0.4139 - accuracy: 0.8060\n",
            "Epoch 17/100\n",
            "177/177 [==============================] - 0s 2ms/step - loss: 0.4123 - accuracy: 0.8078\n",
            "Epoch 18/100\n",
            "177/177 [==============================] - 0s 2ms/step - loss: 0.4122 - accuracy: 0.8071\n",
            "Epoch 19/100\n",
            "177/177 [==============================] - 1s 3ms/step - loss: 0.4106 - accuracy: 0.8080\n",
            "Epoch 20/100\n",
            "177/177 [==============================] - 1s 3ms/step - loss: 0.4109 - accuracy: 0.8055\n",
            "Epoch 21/100\n",
            "177/177 [==============================] - 0s 2ms/step - loss: 0.4098 - accuracy: 0.8131\n",
            "Epoch 22/100\n",
            "177/177 [==============================] - 0s 2ms/step - loss: 0.4098 - accuracy: 0.8090\n",
            "Epoch 23/100\n",
            "177/177 [==============================] - 0s 2ms/step - loss: 0.4090 - accuracy: 0.8099\n",
            "Epoch 24/100\n",
            "177/177 [==============================] - 0s 2ms/step - loss: 0.4077 - accuracy: 0.8104\n",
            "Epoch 25/100\n",
            "177/177 [==============================] - 0s 2ms/step - loss: 0.4073 - accuracy: 0.8119\n",
            "Epoch 26/100\n",
            "177/177 [==============================] - 0s 2ms/step - loss: 0.4067 - accuracy: 0.8101\n",
            "Epoch 27/100\n",
            "177/177 [==============================] - 0s 2ms/step - loss: 0.4064 - accuracy: 0.8122\n",
            "Epoch 28/100\n",
            "177/177 [==============================] - 0s 2ms/step - loss: 0.4049 - accuracy: 0.8103\n",
            "Epoch 29/100\n",
            "177/177 [==============================] - 0s 2ms/step - loss: 0.4055 - accuracy: 0.8103\n",
            "Epoch 30/100\n",
            "177/177 [==============================] - 0s 2ms/step - loss: 0.4056 - accuracy: 0.8097\n",
            "Epoch 31/100\n",
            "177/177 [==============================] - 0s 2ms/step - loss: 0.4049 - accuracy: 0.8126\n",
            "Epoch 32/100\n",
            "177/177 [==============================] - 0s 2ms/step - loss: 0.4027 - accuracy: 0.8133\n",
            "Epoch 33/100\n",
            "177/177 [==============================] - 0s 2ms/step - loss: 0.4024 - accuracy: 0.8113\n",
            "Epoch 34/100\n",
            "177/177 [==============================] - 0s 2ms/step - loss: 0.4014 - accuracy: 0.8145\n",
            "Epoch 35/100\n",
            "177/177 [==============================] - 0s 2ms/step - loss: 0.4007 - accuracy: 0.8110\n",
            "Epoch 36/100\n",
            "177/177 [==============================] - 0s 2ms/step - loss: 0.4001 - accuracy: 0.8143\n",
            "Epoch 37/100\n",
            "177/177 [==============================] - 0s 2ms/step - loss: 0.4000 - accuracy: 0.8142\n",
            "Epoch 38/100\n",
            "177/177 [==============================] - 0s 2ms/step - loss: 0.3984 - accuracy: 0.8147\n",
            "Epoch 39/100\n",
            "177/177 [==============================] - 0s 2ms/step - loss: 0.3989 - accuracy: 0.8145\n",
            "Epoch 40/100\n",
            "177/177 [==============================] - 0s 3ms/step - loss: 0.3968 - accuracy: 0.8149\n",
            "Epoch 41/100\n",
            "177/177 [==============================] - 0s 2ms/step - loss: 0.3962 - accuracy: 0.8168\n",
            "Epoch 42/100\n",
            "177/177 [==============================] - 0s 2ms/step - loss: 0.3963 - accuracy: 0.8154\n",
            "Epoch 43/100\n",
            "177/177 [==============================] - 0s 3ms/step - loss: 0.3953 - accuracy: 0.8126\n",
            "Epoch 44/100\n",
            "177/177 [==============================] - 0s 3ms/step - loss: 0.3944 - accuracy: 0.8149\n",
            "Epoch 45/100\n",
            "177/177 [==============================] - 0s 2ms/step - loss: 0.3942 - accuracy: 0.8156\n",
            "Epoch 46/100\n",
            "177/177 [==============================] - 0s 2ms/step - loss: 0.3931 - accuracy: 0.8165\n",
            "Epoch 47/100\n",
            "177/177 [==============================] - 0s 3ms/step - loss: 0.3920 - accuracy: 0.8175\n",
            "Epoch 48/100\n",
            "177/177 [==============================] - 0s 3ms/step - loss: 0.3912 - accuracy: 0.8172\n",
            "Epoch 49/100\n",
            "177/177 [==============================] - 0s 2ms/step - loss: 0.3913 - accuracy: 0.8161\n",
            "Epoch 50/100\n",
            "177/177 [==============================] - 0s 2ms/step - loss: 0.3910 - accuracy: 0.8190\n",
            "Epoch 51/100\n",
            "177/177 [==============================] - 0s 2ms/step - loss: 0.3894 - accuracy: 0.8193\n",
            "Epoch 52/100\n",
            "177/177 [==============================] - 0s 2ms/step - loss: 0.3896 - accuracy: 0.8195\n",
            "Epoch 53/100\n",
            "177/177 [==============================] - 0s 2ms/step - loss: 0.3883 - accuracy: 0.8188\n",
            "Epoch 54/100\n",
            "177/177 [==============================] - 0s 2ms/step - loss: 0.3882 - accuracy: 0.8206\n",
            "Epoch 55/100\n",
            "177/177 [==============================] - 0s 2ms/step - loss: 0.3863 - accuracy: 0.8159\n",
            "Epoch 56/100\n",
            "177/177 [==============================] - 0s 2ms/step - loss: 0.3866 - accuracy: 0.8213\n",
            "Epoch 57/100\n",
            "177/177 [==============================] - 0s 2ms/step - loss: 0.3853 - accuracy: 0.8211\n",
            "Epoch 58/100\n",
            "177/177 [==============================] - 0s 2ms/step - loss: 0.3849 - accuracy: 0.8198\n",
            "Epoch 59/100\n",
            "177/177 [==============================] - 0s 2ms/step - loss: 0.3834 - accuracy: 0.8206\n",
            "Epoch 60/100\n",
            "177/177 [==============================] - 0s 2ms/step - loss: 0.3837 - accuracy: 0.8227\n",
            "Epoch 61/100\n",
            "177/177 [==============================] - 0s 2ms/step - loss: 0.3822 - accuracy: 0.8229\n",
            "Epoch 62/100\n",
            "177/177 [==============================] - 0s 2ms/step - loss: 0.3835 - accuracy: 0.8227\n",
            "Epoch 63/100\n",
            "177/177 [==============================] - 0s 2ms/step - loss: 0.3817 - accuracy: 0.8204\n",
            "Epoch 64/100\n",
            "177/177 [==============================] - 0s 2ms/step - loss: 0.3817 - accuracy: 0.8214\n",
            "Epoch 65/100\n",
            "177/177 [==============================] - 0s 2ms/step - loss: 0.3813 - accuracy: 0.8222\n",
            "Epoch 66/100\n",
            "177/177 [==============================] - 0s 2ms/step - loss: 0.3812 - accuracy: 0.8243\n",
            "Epoch 67/100\n",
            "177/177 [==============================] - 0s 2ms/step - loss: 0.3782 - accuracy: 0.8261\n",
            "Epoch 68/100\n",
            "177/177 [==============================] - 0s 2ms/step - loss: 0.3789 - accuracy: 0.8239\n",
            "Epoch 69/100\n",
            "177/177 [==============================] - 0s 2ms/step - loss: 0.3789 - accuracy: 0.8239\n",
            "Epoch 70/100\n",
            "177/177 [==============================] - 0s 2ms/step - loss: 0.3777 - accuracy: 0.8234\n",
            "Epoch 71/100\n",
            "177/177 [==============================] - 0s 2ms/step - loss: 0.3773 - accuracy: 0.8262\n",
            "Epoch 72/100\n",
            "177/177 [==============================] - 0s 2ms/step - loss: 0.3779 - accuracy: 0.8255\n",
            "Epoch 73/100\n",
            "177/177 [==============================] - 0s 2ms/step - loss: 0.3760 - accuracy: 0.8259\n",
            "Epoch 74/100\n",
            "177/177 [==============================] - 0s 2ms/step - loss: 0.3750 - accuracy: 0.8275\n",
            "Epoch 75/100\n",
            "177/177 [==============================] - 0s 2ms/step - loss: 0.3752 - accuracy: 0.8293\n",
            "Epoch 76/100\n",
            "177/177 [==============================] - 0s 2ms/step - loss: 0.3752 - accuracy: 0.8268\n",
            "Epoch 77/100\n",
            "177/177 [==============================] - 0s 2ms/step - loss: 0.3751 - accuracy: 0.8271\n",
            "Epoch 78/100\n",
            "177/177 [==============================] - 0s 2ms/step - loss: 0.3734 - accuracy: 0.8273\n",
            "Epoch 79/100\n",
            "177/177 [==============================] - 0s 3ms/step - loss: 0.3736 - accuracy: 0.8248\n",
            "Epoch 80/100\n",
            "177/177 [==============================] - 0s 3ms/step - loss: 0.3731 - accuracy: 0.8243\n",
            "Epoch 81/100\n",
            "177/177 [==============================] - 0s 3ms/step - loss: 0.3723 - accuracy: 0.8264\n",
            "Epoch 82/100\n",
            "177/177 [==============================] - 0s 2ms/step - loss: 0.3722 - accuracy: 0.8278\n",
            "Epoch 83/100\n",
            "177/177 [==============================] - 0s 2ms/step - loss: 0.3729 - accuracy: 0.8241\n",
            "Epoch 84/100\n",
            "177/177 [==============================] - 1s 3ms/step - loss: 0.3707 - accuracy: 0.8282\n",
            "Epoch 85/100\n",
            "177/177 [==============================] - 0s 3ms/step - loss: 0.3711 - accuracy: 0.8261\n",
            "Epoch 86/100\n",
            "177/177 [==============================] - 1s 3ms/step - loss: 0.3710 - accuracy: 0.8241\n",
            "Epoch 87/100\n",
            "177/177 [==============================] - 0s 2ms/step - loss: 0.3689 - accuracy: 0.8255\n",
            "Epoch 88/100\n",
            "177/177 [==============================] - 0s 2ms/step - loss: 0.3703 - accuracy: 0.8255\n",
            "Epoch 89/100\n",
            "177/177 [==============================] - 0s 2ms/step - loss: 0.3712 - accuracy: 0.8269\n",
            "Epoch 90/100\n",
            "177/177 [==============================] - 0s 2ms/step - loss: 0.3679 - accuracy: 0.8300\n",
            "Epoch 91/100\n",
            "177/177 [==============================] - 0s 2ms/step - loss: 0.3685 - accuracy: 0.8300\n",
            "Epoch 92/100\n",
            "177/177 [==============================] - 0s 2ms/step - loss: 0.3676 - accuracy: 0.8271\n",
            "Epoch 93/100\n",
            "177/177 [==============================] - 0s 2ms/step - loss: 0.3670 - accuracy: 0.8271\n",
            "Epoch 94/100\n",
            "177/177 [==============================] - 0s 2ms/step - loss: 0.3665 - accuracy: 0.8284\n",
            "Epoch 95/100\n",
            "177/177 [==============================] - 0s 2ms/step - loss: 0.3664 - accuracy: 0.8294\n",
            "Epoch 96/100\n",
            "177/177 [==============================] - 0s 2ms/step - loss: 0.3648 - accuracy: 0.8289\n",
            "Epoch 97/100\n",
            "177/177 [==============================] - 0s 2ms/step - loss: 0.3662 - accuracy: 0.8255\n",
            "Epoch 98/100\n",
            "177/177 [==============================] - 0s 2ms/step - loss: 0.3663 - accuracy: 0.8275\n",
            "Epoch 99/100\n",
            "177/177 [==============================] - 0s 2ms/step - loss: 0.3637 - accuracy: 0.8275\n",
            "Epoch 100/100\n",
            "177/177 [==============================] - 0s 2ms/step - loss: 0.3643 - accuracy: 0.8293\n"
          ]
        },
        {
          "output_type": "execute_result",
          "data": {
            "text/plain": [
              "<keras.callbacks.History at 0x7fedb0421c40>"
            ]
          },
          "metadata": {},
          "execution_count": 20
        }
      ]
    },
    {
      "cell_type": "code",
      "source": [
        "model.evaluate(xtest,ytest)"
      ],
      "metadata": {
        "colab": {
          "base_uri": "https://localhost:8080/"
        },
        "id": "vr12LaycDYGs",
        "outputId": "8d9bcc65-381d-4647-c43a-4d4a095cc4ba"
      },
      "execution_count": null,
      "outputs": [
        {
          "output_type": "stream",
          "name": "stdout",
          "text": [
            "45/45 [==============================] - 0s 1ms/step - loss: 0.4395 - accuracy: 0.8013\n"
          ]
        },
        {
          "output_type": "execute_result",
          "data": {
            "text/plain": [
              "[0.439505934715271, 0.8012775182723999]"
            ]
          },
          "metadata": {},
          "execution_count": 21
        }
      ]
    },
    {
      "cell_type": "code",
      "source": [
        "ypred = model.predict(xtest)\n",
        "print(ypred)\n",
        "# unscaling the ypred values \n",
        "ypred_lis = []\n",
        "for i in ypred:\n",
        "    if i>0.5:\n",
        "        ypred_lis.append(1)\n",
        "    else:\n",
        "        ypred_lis.append(0)\n",
        "print(ypred_lis)"
      ],
      "metadata": {
        "colab": {
          "base_uri": "https://localhost:8080/"
        },
        "id": "vfhPQD4-DaL4",
        "outputId": "4aafdb46-afb7-4a97-a776-642b07e2d267"
      },
      "execution_count": null,
      "outputs": [
        {
          "output_type": "stream",
          "name": "stdout",
          "text": [
            "45/45 [==============================] - 0s 1ms/step\n",
            "[[0.3173239 ]\n",
            " [0.8783102 ]\n",
            " [0.2552172 ]\n",
            " ...\n",
            " [0.12687092]\n",
            " [0.12559444]\n",
            " [0.9515145 ]]\n",
            "[0, 1, 0, 0, 0, 1, 1, 0, 0, 0, 0, 0, 0, 0, 0, 1, 0, 0, 0, 0, 0, 0, 0, 1, 0, 1, 0, 0, 0, 0, 0, 0, 0, 1, 0, 0, 0, 0, 1, 0, 1, 1, 0, 1, 0, 1, 0, 1, 0, 0, 1, 0, 0, 0, 0, 0, 0, 0, 0, 0, 0, 0, 1, 0, 0, 0, 0, 0, 1, 0, 0, 0, 1, 1, 0, 0, 1, 1, 0, 0, 0, 0, 1, 0, 0, 1, 0, 0, 0, 0, 0, 0, 0, 0, 1, 0, 0, 0, 0, 0, 0, 1, 0, 0, 0, 0, 0, 0, 0, 0, 0, 0, 0, 0, 0, 0, 1, 0, 0, 0, 0, 0, 0, 1, 0, 0, 0, 0, 0, 0, 0, 1, 0, 0, 0, 1, 0, 0, 0, 0, 0, 0, 0, 0, 0, 0, 1, 0, 0, 0, 0, 0, 0, 0, 0, 0, 0, 0, 0, 0, 0, 0, 0, 0, 0, 0, 0, 0, 0, 0, 0, 1, 0, 1, 0, 0, 0, 1, 1, 0, 1, 0, 0, 0, 0, 0, 0, 0, 0, 0, 0, 0, 1, 1, 1, 0, 1, 0, 0, 0, 0, 0, 0, 0, 1, 0, 0, 0, 0, 0, 0, 1, 0, 0, 0, 0, 0, 0, 0, 0, 0, 1, 0, 0, 0, 0, 0, 0, 1, 0, 0, 0, 0, 0, 0, 0, 0, 0, 1, 0, 0, 0, 0, 0, 0, 0, 0, 0, 0, 0, 0, 0, 1, 1, 0, 0, 0, 0, 1, 0, 0, 1, 0, 0, 0, 0, 0, 1, 0, 0, 1, 0, 0, 0, 0, 0, 0, 0, 0, 1, 1, 0, 0, 1, 0, 0, 0, 0, 0, 0, 0, 0, 0, 0, 1, 1, 0, 0, 0, 0, 0, 0, 0, 0, 0, 0, 0, 0, 0, 0, 0, 0, 1, 0, 0, 1, 0, 0, 0, 0, 0, 0, 0, 0, 0, 0, 0, 1, 1, 0, 0, 1, 0, 0, 0, 0, 0, 0, 1, 0, 0, 1, 0, 1, 0, 0, 0, 0, 0, 0, 0, 0, 0, 1, 0, 0, 0, 0, 1, 0, 0, 0, 0, 0, 0, 0, 1, 0, 0, 0, 1, 0, 0, 0, 0, 0, 0, 1, 0, 1, 0, 0, 0, 0, 0, 0, 0, 0, 0, 1, 0, 0, 1, 0, 1, 0, 0, 0, 1, 0, 0, 0, 1, 0, 1, 0, 0, 0, 0, 1, 1, 0, 0, 0, 0, 0, 0, 0, 0, 0, 0, 0, 1, 1, 0, 0, 0, 1, 1, 1, 0, 0, 0, 0, 0, 0, 1, 0, 0, 0, 0, 0, 0, 0, 0, 0, 0, 0, 0, 0, 0, 0, 1, 0, 0, 1, 0, 1, 0, 0, 1, 0, 0, 0, 0, 0, 0, 1, 0, 0, 0, 0, 1, 0, 0, 0, 1, 0, 0, 0, 0, 0, 0, 0, 0, 0, 0, 0, 0, 0, 0, 0, 0, 0, 0, 0, 1, 0, 0, 0, 0, 0, 0, 0, 0, 0, 0, 0, 0, 0, 0, 0, 0, 1, 0, 0, 0, 0, 1, 1, 0, 0, 0, 1, 0, 0, 0, 1, 0, 0, 0, 1, 0, 0, 1, 0, 0, 0, 1, 0, 0, 0, 0, 0, 0, 0, 1, 0, 0, 0, 0, 0, 0, 1, 1, 0, 1, 0, 1, 1, 1, 0, 0, 1, 0, 1, 0, 0, 0, 0, 0, 0, 0, 0, 0, 0, 1, 0, 0, 1, 0, 0, 0, 0, 0, 0, 0, 1, 0, 1, 0, 0, 0, 0, 1, 0, 0, 0, 0, 0, 0, 0, 0, 0, 0, 0, 0, 0, 1, 0, 0, 0, 0, 1, 0, 0, 0, 0, 0, 0, 0, 1, 1, 0, 1, 0, 0, 0, 0, 0, 0, 0, 0, 0, 1, 0, 0, 0, 0, 0, 0, 0, 0, 0, 1, 0, 1, 0, 0, 0, 1, 0, 1, 0, 1, 0, 0, 0, 0, 1, 1, 1, 1, 0, 1, 1, 0, 0, 0, 0, 0, 1, 0, 0, 1, 0, 0, 0, 0, 0, 0, 0, 1, 0, 0, 0, 0, 0, 1, 1, 1, 0, 0, 0, 0, 0, 1, 0, 1, 0, 0, 0, 0, 0, 0, 0, 0, 0, 0, 0, 1, 0, 0, 1, 1, 1, 0, 0, 0, 1, 0, 0, 0, 0, 0, 0, 0, 0, 0, 1, 0, 0, 0, 0, 0, 0, 1, 0, 0, 0, 0, 0, 0, 1, 0, 0, 1, 0, 0, 0, 0, 0, 0, 0, 0, 0, 0, 0, 0, 1, 0, 1, 0, 0, 0, 0, 0, 1, 0, 0, 0, 0, 0, 0, 0, 0, 1, 0, 0, 0, 1, 0, 1, 1, 1, 0, 0, 0, 0, 0, 0, 1, 0, 0, 1, 0, 0, 0, 1, 0, 0, 0, 0, 1, 0, 0, 0, 0, 0, 0, 0, 0, 1, 1, 0, 0, 0, 0, 0, 0, 0, 0, 0, 0, 0, 0, 0, 1, 0, 0, 0, 0, 0, 1, 1, 0, 0, 1, 0, 0, 0, 0, 0, 1, 0, 0, 0, 0, 0, 0, 0, 0, 0, 0, 0, 0, 0, 0, 0, 0, 1, 1, 0, 0, 0, 0, 0, 0, 0, 0, 0, 0, 0, 1, 0, 1, 0, 0, 0, 0, 0, 0, 0, 0, 1, 0, 0, 0, 1, 0, 1, 0, 0, 0, 0, 0, 0, 0, 1, 0, 0, 1, 0, 0, 0, 0, 0, 0, 0, 0, 0, 1, 0, 1, 0, 0, 1, 0, 0, 0, 0, 0, 0, 1, 0, 0, 0, 0, 0, 0, 0, 0, 1, 0, 0, 0, 0, 0, 1, 0, 0, 0, 1, 1, 1, 0, 0, 0, 0, 0, 1, 0, 0, 0, 0, 1, 0, 0, 0, 0, 0, 0, 0, 0, 0, 0, 1, 0, 0, 0, 0, 0, 0, 0, 0, 0, 0, 0, 0, 0, 0, 0, 0, 0, 1, 0, 0, 0, 0, 0, 1, 0, 0, 0, 1, 0, 0, 0, 0, 0, 0, 0, 0, 1, 0, 0, 0, 0, 1, 0, 0, 0, 1, 0, 0, 1, 0, 0, 1, 0, 0, 1, 1, 0, 0, 0, 1, 0, 0, 0, 0, 1, 0, 0, 0, 0, 0, 1, 1, 1, 0, 1, 0, 0, 0, 1, 0, 0, 0, 0, 1, 0, 0, 0, 0, 0, 0, 0, 0, 0, 1, 0, 0, 0, 0, 0, 0, 0, 0, 0, 1, 0, 0, 0, 0, 0, 0, 1, 1, 0, 0, 0, 1, 1, 1, 0, 0, 0, 1, 0, 0, 0, 1, 1, 0, 1, 1, 1, 0, 1, 0, 1, 0, 0, 0, 0, 0, 0, 0, 0, 1, 0, 0, 0, 0, 0, 0, 0, 0, 0, 0, 0, 0, 0, 0, 0, 0, 1, 1, 0, 0, 0, 1, 1, 0, 0, 0, 0, 0, 0, 0, 0, 0, 0, 0, 0, 0, 0, 0, 0, 1, 0, 1, 0, 0, 0, 0, 1, 1, 0, 0, 1, 0, 0, 0, 0, 1, 0, 1, 0, 1, 0, 0, 0, 0, 0, 0, 0, 0, 0, 0, 0, 1, 1, 0, 0, 0, 0, 0, 1, 0, 1, 0, 1, 1, 0, 0, 0, 0, 1, 0, 1, 0, 0, 1, 0, 0, 1, 0, 0, 0, 1, 0, 1, 1, 0, 0, 1, 0, 0, 0, 1, 1, 0, 0, 0, 0, 0, 0, 0, 0, 0, 0, 0, 0, 1, 0, 0, 1, 0, 0, 0, 0, 1, 1, 0, 0, 0, 1, 1, 0, 0, 0, 0, 0, 0, 0, 0, 0, 0, 1, 0, 1, 0, 0, 1, 0, 1, 0, 0, 0, 1, 0, 0, 0, 0, 1, 0, 0, 0, 0, 0, 1, 0, 0, 0, 0, 0, 1, 0, 0, 1, 0, 0, 0, 0, 0, 0, 0, 0, 0, 0, 0, 0, 0, 0, 0, 0, 0, 0, 1, 1, 0, 1, 0, 0, 0, 0, 0, 0, 0, 0, 0, 0, 0, 0, 0, 0, 1, 0, 0, 0, 1, 0, 0, 0, 0, 0, 1, 0, 0, 0, 0, 0, 0, 1, 0, 0, 1, 0, 0, 1, 1, 0, 0, 0, 0, 0, 0, 0, 0, 0, 0, 0, 0, 0, 1, 0, 0, 0, 0, 0, 1, 1, 0, 0, 0, 0, 1, 0, 1, 1, 0, 0, 0, 1, 0, 0, 0, 1, 0, 1, 0, 1, 1, 0, 0, 0, 0, 0, 1, 0, 0, 1, 0, 0, 0, 0, 1]\n"
          ]
        }
      ]
    },
    {
      "cell_type": "code",
      "source": [
        "data = {'orignal_churn':ytest, 'predicted_churn':ypred_lis}\n",
        "df_check = pd.DataFrame(data)\n",
        "df_check.head(10)"
      ],
      "metadata": {
        "colab": {
          "base_uri": "https://localhost:8080/",
          "height": 363
        },
        "id": "kj5GrIZ1Dcnm",
        "outputId": "5ddbc2e9-2647-404b-b339-d9189d9cc9ee"
      },
      "execution_count": null,
      "outputs": [
        {
          "output_type": "execute_result",
          "data": {
            "text/plain": [
              "      orignal_churn  predicted_churn\n",
              "6418              0                0\n",
              "1948              1                1\n",
              "4497              0                0\n",
              "66                0                0\n",
              "1705              0                0\n",
              "924               0                1\n",
              "1051              0                1\n",
              "7012              0                0\n",
              "3723              0                0\n",
              "4590              0                0"
            ],
            "text/html": [
              "\n",
              "  <div id=\"df-7814b3fb-faef-4263-a236-f81ef5abb845\">\n",
              "    <div class=\"colab-df-container\">\n",
              "      <div>\n",
              "<style scoped>\n",
              "    .dataframe tbody tr th:only-of-type {\n",
              "        vertical-align: middle;\n",
              "    }\n",
              "\n",
              "    .dataframe tbody tr th {\n",
              "        vertical-align: top;\n",
              "    }\n",
              "\n",
              "    .dataframe thead th {\n",
              "        text-align: right;\n",
              "    }\n",
              "</style>\n",
              "<table border=\"1\" class=\"dataframe\">\n",
              "  <thead>\n",
              "    <tr style=\"text-align: right;\">\n",
              "      <th></th>\n",
              "      <th>orignal_churn</th>\n",
              "      <th>predicted_churn</th>\n",
              "    </tr>\n",
              "  </thead>\n",
              "  <tbody>\n",
              "    <tr>\n",
              "      <th>6418</th>\n",
              "      <td>0</td>\n",
              "      <td>0</td>\n",
              "    </tr>\n",
              "    <tr>\n",
              "      <th>1948</th>\n",
              "      <td>1</td>\n",
              "      <td>1</td>\n",
              "    </tr>\n",
              "    <tr>\n",
              "      <th>4497</th>\n",
              "      <td>0</td>\n",
              "      <td>0</td>\n",
              "    </tr>\n",
              "    <tr>\n",
              "      <th>66</th>\n",
              "      <td>0</td>\n",
              "      <td>0</td>\n",
              "    </tr>\n",
              "    <tr>\n",
              "      <th>1705</th>\n",
              "      <td>0</td>\n",
              "      <td>0</td>\n",
              "    </tr>\n",
              "    <tr>\n",
              "      <th>924</th>\n",
              "      <td>0</td>\n",
              "      <td>1</td>\n",
              "    </tr>\n",
              "    <tr>\n",
              "      <th>1051</th>\n",
              "      <td>0</td>\n",
              "      <td>1</td>\n",
              "    </tr>\n",
              "    <tr>\n",
              "      <th>7012</th>\n",
              "      <td>0</td>\n",
              "      <td>0</td>\n",
              "    </tr>\n",
              "    <tr>\n",
              "      <th>3723</th>\n",
              "      <td>0</td>\n",
              "      <td>0</td>\n",
              "    </tr>\n",
              "    <tr>\n",
              "      <th>4590</th>\n",
              "      <td>0</td>\n",
              "      <td>0</td>\n",
              "    </tr>\n",
              "  </tbody>\n",
              "</table>\n",
              "</div>\n",
              "      <button class=\"colab-df-convert\" onclick=\"convertToInteractive('df-7814b3fb-faef-4263-a236-f81ef5abb845')\"\n",
              "              title=\"Convert this dataframe to an interactive table.\"\n",
              "              style=\"display:none;\">\n",
              "        \n",
              "  <svg xmlns=\"http://www.w3.org/2000/svg\" height=\"24px\"viewBox=\"0 0 24 24\"\n",
              "       width=\"24px\">\n",
              "    <path d=\"M0 0h24v24H0V0z\" fill=\"none\"/>\n",
              "    <path d=\"M18.56 5.44l.94 2.06.94-2.06 2.06-.94-2.06-.94-.94-2.06-.94 2.06-2.06.94zm-11 1L8.5 8.5l.94-2.06 2.06-.94-2.06-.94L8.5 2.5l-.94 2.06-2.06.94zm10 10l.94 2.06.94-2.06 2.06-.94-2.06-.94-.94-2.06-.94 2.06-2.06.94z\"/><path d=\"M17.41 7.96l-1.37-1.37c-.4-.4-.92-.59-1.43-.59-.52 0-1.04.2-1.43.59L10.3 9.45l-7.72 7.72c-.78.78-.78 2.05 0 2.83L4 21.41c.39.39.9.59 1.41.59.51 0 1.02-.2 1.41-.59l7.78-7.78 2.81-2.81c.8-.78.8-2.07 0-2.86zM5.41 20L4 18.59l7.72-7.72 1.47 1.35L5.41 20z\"/>\n",
              "  </svg>\n",
              "      </button>\n",
              "      \n",
              "  <style>\n",
              "    .colab-df-container {\n",
              "      display:flex;\n",
              "      flex-wrap:wrap;\n",
              "      gap: 12px;\n",
              "    }\n",
              "\n",
              "    .colab-df-convert {\n",
              "      background-color: #E8F0FE;\n",
              "      border: none;\n",
              "      border-radius: 50%;\n",
              "      cursor: pointer;\n",
              "      display: none;\n",
              "      fill: #1967D2;\n",
              "      height: 32px;\n",
              "      padding: 0 0 0 0;\n",
              "      width: 32px;\n",
              "    }\n",
              "\n",
              "    .colab-df-convert:hover {\n",
              "      background-color: #E2EBFA;\n",
              "      box-shadow: 0px 1px 2px rgba(60, 64, 67, 0.3), 0px 1px 3px 1px rgba(60, 64, 67, 0.15);\n",
              "      fill: #174EA6;\n",
              "    }\n",
              "\n",
              "    [theme=dark] .colab-df-convert {\n",
              "      background-color: #3B4455;\n",
              "      fill: #D2E3FC;\n",
              "    }\n",
              "\n",
              "    [theme=dark] .colab-df-convert:hover {\n",
              "      background-color: #434B5C;\n",
              "      box-shadow: 0px 1px 3px 1px rgba(0, 0, 0, 0.15);\n",
              "      filter: drop-shadow(0px 1px 2px rgba(0, 0, 0, 0.3));\n",
              "      fill: #FFFFFF;\n",
              "    }\n",
              "  </style>\n",
              "\n",
              "      <script>\n",
              "        const buttonEl =\n",
              "          document.querySelector('#df-7814b3fb-faef-4263-a236-f81ef5abb845 button.colab-df-convert');\n",
              "        buttonEl.style.display =\n",
              "          google.colab.kernel.accessAllowed ? 'block' : 'none';\n",
              "\n",
              "        async function convertToInteractive(key) {\n",
              "          const element = document.querySelector('#df-7814b3fb-faef-4263-a236-f81ef5abb845');\n",
              "          const dataTable =\n",
              "            await google.colab.kernel.invokeFunction('convertToInteractive',\n",
              "                                                     [key], {});\n",
              "          if (!dataTable) return;\n",
              "\n",
              "          const docLinkHtml = 'Like what you see? Visit the ' +\n",
              "            '<a target=\"_blank\" href=https://colab.research.google.com/notebooks/data_table.ipynb>data table notebook</a>'\n",
              "            + ' to learn more about interactive tables.';\n",
              "          element.innerHTML = '';\n",
              "          dataTable['output_type'] = 'display_data';\n",
              "          await google.colab.output.renderOutput(dataTable, element);\n",
              "          const docLink = document.createElement('div');\n",
              "          docLink.innerHTML = docLinkHtml;\n",
              "          element.appendChild(docLink);\n",
              "        }\n",
              "      </script>\n",
              "    </div>\n",
              "  </div>\n",
              "  "
            ]
          },
          "metadata": {},
          "execution_count": 23
        }
      ]
    },
    {
      "cell_type": "code",
      "source": [
        "from sklearn.metrics import confusion_matrix, classification_report\n",
        "print(classification_report(ytest,ypred_lis))\n",
        "\n",
        "# ploting the confusion metrix plot\n",
        "conf_mat = tf.math.confusion_matrix(labels=ytest,predictions=ypred_lis)\n",
        "plt.figure(figsize = (17,7))\n",
        "sb.heatmap(conf_mat, annot=True,fmt='d')\n",
        "plt.xlabel('Predicted_number')\n",
        "plt.ylabel('True_number')"
      ],
      "metadata": {
        "colab": {
          "base_uri": "https://localhost:8080/",
          "height": 617
        },
        "id": "l1p-TculDfzK",
        "outputId": "e1c5dafa-6b34-4098-8c3d-a274f5934ce9"
      },
      "execution_count": null,
      "outputs": [
        {
          "output_type": "stream",
          "name": "stdout",
          "text": [
            "              precision    recall  f1-score   support\n",
            "\n",
            "           0       0.85      0.89      0.87      1066\n",
            "           1       0.61      0.51      0.56       343\n",
            "\n",
            "    accuracy                           0.80      1409\n",
            "   macro avg       0.73      0.70      0.71      1409\n",
            "weighted avg       0.79      0.80      0.79      1409\n",
            "\n"
          ]
        },
        {
          "output_type": "execute_result",
          "data": {
            "text/plain": [
              "Text(132.0, 0.5, 'True_number')"
            ]
          },
          "metadata": {},
          "execution_count": 24
        },
        {
          "output_type": "display_data",
          "data": {
            "text/plain": [
              "<Figure size 1224x504 with 2 Axes>"
            ],
            "image/png": "[encoded data removed]"
          },
          "metadata": {
            "needs_background": "light"
          }
        }
      ]
    },
    {
      "cell_type": "code",
      "source": [],
      "metadata": {
        "id": "Yz1151k2DigS"
      },
      "execution_count": null,
      "outputs": []
    }
  ]
}