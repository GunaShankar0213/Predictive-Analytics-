{
  "nbformat": 4,
  "nbformat_minor": 0,
  "metadata": {
    "colab": {
      "provenance": []
    },
    "kernelspec": {
      "name": "python3",
      "display_name": "Python 3"
    },
    "language_info": {
      "name": "python"
    }
  },
  "cells": [
    {
      "cell_type": "markdown",
      "source": [
        "#DA2\n",
        "Twitter scrapping \\\n",
        "GUNA SHANKAR S \\\n",
        "20MIA1162"
      ],
      "metadata": {
        "id": "5Vs3A87pOExU"
      }
    },
    {
      "cell_type": "code",
      "execution_count": null,
      "metadata": {
        "colab": {
          "base_uri": "https://localhost:8080/"
        },
        "id": "Xf9ulBsyvwHL",
        "outputId": "57319405-6de0-4e0d-ce02-8e25f6984774"
      },
      "outputs": [
        {
          "output_type": "stream",
          "name": "stdout",
          "text": [
            "Looking in indexes: https://pypi.org/simple, https://us-python.pkg.dev/colab-wheels/public/simple/\n",
            "Requirement already satisfied: snscrape in /usr/local/lib/python3.8/dist-packages (0.5.0.20230113)\n",
            "Requirement already satisfied: filelock in /usr/local/lib/python3.8/dist-packages (from snscrape) (3.9.0)\n",
            "Requirement already satisfied: beautifulsoup4 in /usr/local/lib/python3.8/dist-packages (from snscrape) (4.6.3)\n",
            "Requirement already satisfied: requests[socks] in /usr/local/lib/python3.8/dist-packages (from snscrape) (2.25.1)\n",
            "Requirement already satisfied: pytz in /usr/local/lib/python3.8/dist-packages (from snscrape) (2022.7.1)\n",
            "Requirement already satisfied: lxml in /usr/local/lib/python3.8/dist-packages (from snscrape) (4.9.2)\n",
            "Requirement already satisfied: certifi>=2017.4.17 in /usr/local/lib/python3.8/dist-packages (from requests[socks]->snscrape) (2022.12.7)\n",
            "Requirement already satisfied: urllib3<1.27,>=1.21.1 in /usr/local/lib/python3.8/dist-packages (from requests[socks]->snscrape) (1.26.14)\n",
            "Requirement already satisfied: idna<3,>=2.5 in /usr/local/lib/python3.8/dist-packages (from requests[socks]->snscrape) (2.10)\n",
            "Requirement already satisfied: chardet<5,>=3.0.2 in /usr/local/lib/python3.8/dist-packages (from requests[socks]->snscrape) (4.0.0)\n",
            "Requirement already satisfied: PySocks!=1.5.7,>=1.5.6 in /usr/local/lib/python3.8/dist-packages (from requests[socks]->snscrape) (1.7.1)\n"
          ]
        }
      ],
      "source": [
        "!pip install snscrape"
      ]
    },
    {
      "cell_type": "code",
      "source": [
        "import snscrape.modules.twitter as sntwitter\n",
        "import pandas as pd\n",
        "\n",
        "# Set search variables\n",
        "search_words = \"#example\"\n",
        "max_tweets = 1000\n",
        "latitude = 37.7749\n",
        "longitude = -122.4194\n",
        "radius = \"15km\"\n",
        "\n",
        "# Create a list to store tweet attributes\n",
        "tweets_list = []\n",
        "\n",
        "# Iterate through each tweet using the Twitter API\n",
        "for i, tweet in enumerate(sntwitter.TwitterSearchScraper(search_words + f\" geocode:{latitude},{longitude},{radius}\").get_items()):\n",
        "    if i >= max_tweets:\n",
        "        break\n",
        "    tweets_list.append([tweet.date, tweet.content, tweet.user.username, tweet.user.location])\n",
        "\n",
        "# Create a dataframe from the tweets list\n",
        "tweets_df = pd.DataFrame(tweets_list, columns=[\"Date\", \"Text\", \"Username\", \"Location\"])\n",
        "\n",
        "\n"
      ],
      "metadata": {
        "colab": {
          "base_uri": "https://localhost:8080/"
        },
        "id": "kkSzMXx-znyQ",
        "outputId": "0a345e2c-e18a-4d57-bcc7-b3d05d9a6a29"
      },
      "execution_count": null,
      "outputs": [
        {
          "output_type": "stream",
          "name": "stderr",
          "text": [
            "<ipython-input-19-a7e33a999cea>:18: FutureWarning: content is deprecated, use rawContent instead\n",
            "  tweets_list.append([tweet.date, tweet.content, tweet.user.username, tweet.user.location])\n"
          ]
        }
      ]
    },
    {
      "cell_type": "code",
      "source": [
        "tweets_df.head(5)"
      ],
      "metadata": {
        "colab": {
          "base_uri": "https://localhost:8080/",
          "height": 206
        },
        "id": "tPHDGGkBzxRn",
        "outputId": "1c97275f-3da4-4ab3-9394-07871b4048d3"
      },
      "execution_count": null,
      "outputs": [
        {
          "output_type": "execute_result",
          "data": {
            "text/plain": [
              "                       Date  \\\n",
              "0 2023-02-28 01:04:53+00:00   \n",
              "1 2022-11-12 10:43:36+00:00   \n",
              "2 2020-12-06 22:53:47+00:00   \n",
              "3 2019-11-02 01:10:15+00:00   \n",
              "4 2018-12-04 20:32:24+00:00   \n",
              "\n",
              "                                                Text        Username  \\\n",
              "0  When public media try to control your stock by...          XaevrM   \n",
              "1  https://t.co/uoz6ruxqaw\\n\\nYour new producer.\\...         GKhayut   \n",
              "2  @ytquiroz So actually I think it could help ot...        relajoie   \n",
              "3  According to my very #trusty #weather app @wun...  AdrianXTristan   \n",
              "4  @ADDerWORLD @FernandoandGreg @JasonDahlstedt #...    JulioFrank83   \n",
              "\n",
              "                         Location  \n",
              "0                  San Francisco   \n",
              "1  796 Santiago St. 94116 SF 2022  \n",
              "2                   Palo Alto, CA  \n",
              "3               San Francisco, CA  \n",
              "4               San Francisco, Ca  "
            ],
            "text/html": [
              "\n",
              "  <div id=\"df-4623cb17-19b0-4c4a-9194-2e709bc45234\">\n",
              "    <div class=\"colab-df-container\">\n",
              "      <div>\n",
              "<style scoped>\n",
              "    .dataframe tbody tr th:only-of-type {\n",
              "        vertical-align: middle;\n",
              "    }\n",
              "\n",
              "    .dataframe tbody tr th {\n",
              "        vertical-align: top;\n",
              "    }\n",
              "\n",
              "    .dataframe thead th {\n",
              "        text-align: right;\n",
              "    }\n",
              "</style>\n",
              "<table border=\"1\" class=\"dataframe\">\n",
              "  <thead>\n",
              "    <tr style=\"text-align: right;\">\n",
              "      <th></th>\n",
              "      <th>Date</th>\n",
              "      <th>Text</th>\n",
              "      <th>Username</th>\n",
              "      <th>Location</th>\n",
              "    </tr>\n",
              "  </thead>\n",
              "  <tbody>\n",
              "    <tr>\n",
              "      <th>0</th>\n",
              "      <td>2023-02-28 01:04:53+00:00</td>\n",
              "      <td>When public media try to control your stock by...</td>\n",
              "      <td>XaevrM</td>\n",
              "      <td>San Francisco</td>\n",
              "    </tr>\n",
              "    <tr>\n",
              "      <th>1</th>\n",
              "      <td>2022-11-12 10:43:36+00:00</td>\n",
              "      <td>https://t.co/uoz6ruxqaw\\n\\nYour new producer.\\...</td>\n",
              "      <td>GKhayut</td>\n",
              "      <td>796 Santiago St. 94116 SF 2022</td>\n",
              "    </tr>\n",
              "    <tr>\n",
              "      <th>2</th>\n",
              "      <td>2020-12-06 22:53:47+00:00</td>\n",
              "      <td>@ytquiroz So actually I think it could help ot...</td>\n",
              "      <td>relajoie</td>\n",
              "      <td>Palo Alto, CA</td>\n",
              "    </tr>\n",
              "    <tr>\n",
              "      <th>3</th>\n",
              "      <td>2019-11-02 01:10:15+00:00</td>\n",
              "      <td>According to my very #trusty #weather app @wun...</td>\n",
              "      <td>AdrianXTristan</td>\n",
              "      <td>San Francisco, CA</td>\n",
              "    </tr>\n",
              "    <tr>\n",
              "      <th>4</th>\n",
              "      <td>2018-12-04 20:32:24+00:00</td>\n",
              "      <td>@ADDerWORLD @FernandoandGreg @JasonDahlstedt #...</td>\n",
              "      <td>JulioFrank83</td>\n",
              "      <td>San Francisco, Ca</td>\n",
              "    </tr>\n",
              "  </tbody>\n",
              "</table>\n",
              "</div>\n",
              "      <button class=\"colab-df-convert\" onclick=\"convertToInteractive('df-4623cb17-19b0-4c4a-9194-2e709bc45234')\"\n",
              "              title=\"Convert this dataframe to an interactive table.\"\n",
              "              style=\"display:none;\">\n",
              "        \n",
              "  <svg xmlns=\"http://www.w3.org/2000/svg\" height=\"24px\"viewBox=\"0 0 24 24\"\n",
              "       width=\"24px\">\n",
              "    <path d=\"M0 0h24v24H0V0z\" fill=\"none\"/>\n",
              "    <path d=\"M18.56 5.44l.94 2.06.94-2.06 2.06-.94-2.06-.94-.94-2.06-.94 2.06-2.06.94zm-11 1L8.5 8.5l.94-2.06 2.06-.94-2.06-.94L8.5 2.5l-.94 2.06-2.06.94zm10 10l.94 2.06.94-2.06 2.06-.94-2.06-.94-.94-2.06-.94 2.06-2.06.94z\"/><path d=\"M17.41 7.96l-1.37-1.37c-.4-.4-.92-.59-1.43-.59-.52 0-1.04.2-1.43.59L10.3 9.45l-7.72 7.72c-.78.78-.78 2.05 0 2.83L4 21.41c.39.39.9.59 1.41.59.51 0 1.02-.2 1.41-.59l7.78-7.78 2.81-2.81c.8-.78.8-2.07 0-2.86zM5.41 20L4 18.59l7.72-7.72 1.47 1.35L5.41 20z\"/>\n",
              "  </svg>\n",
              "      </button>\n",
              "      \n",
              "  <style>\n",
              "    .colab-df-container {\n",
              "      display:flex;\n",
              "      flex-wrap:wrap;\n",
              "      gap: 12px;\n",
              "    }\n",
              "\n",
              "    .colab-df-convert {\n",
              "      background-color: #E8F0FE;\n",
              "      border: none;\n",
              "      border-radius: 50%;\n",
              "      cursor: pointer;\n",
              "      display: none;\n",
              "      fill: #1967D2;\n",
              "      height: 32px;\n",
              "      padding: 0 0 0 0;\n",
              "      width: 32px;\n",
              "    }\n",
              "\n",
              "    .colab-df-convert:hover {\n",
              "      background-color: #E2EBFA;\n",
              "      box-shadow: 0px 1px 2px rgba(60, 64, 67, 0.3), 0px 1px 3px 1px rgba(60, 64, 67, 0.15);\n",
              "      fill: #174EA6;\n",
              "    }\n",
              "\n",
              "    [theme=dark] .colab-df-convert {\n",
              "      background-color: #3B4455;\n",
              "      fill: #D2E3FC;\n",
              "    }\n",
              "\n",
              "    [theme=dark] .colab-df-convert:hover {\n",
              "      background-color: #434B5C;\n",
              "      box-shadow: 0px 1px 3px 1px rgba(0, 0, 0, 0.15);\n",
              "      filter: drop-shadow(0px 1px 2px rgba(0, 0, 0, 0.3));\n",
              "      fill: #FFFFFF;\n",
              "    }\n",
              "  </style>\n",
              "\n",
              "      <script>\n",
              "        const buttonEl =\n",
              "          document.querySelector('#df-4623cb17-19b0-4c4a-9194-2e709bc45234 button.colab-df-convert');\n",
              "        buttonEl.style.display =\n",
              "          google.colab.kernel.accessAllowed ? 'block' : 'none';\n",
              "\n",
              "        async function convertToInteractive(key) {\n",
              "          const element = document.querySelector('#df-4623cb17-19b0-4c4a-9194-2e709bc45234');\n",
              "          const dataTable =\n",
              "            await google.colab.kernel.invokeFunction('convertToInteractive',\n",
              "                                                     [key], {});\n",
              "          if (!dataTable) return;\n",
              "\n",
              "          const docLinkHtml = 'Like what you see? Visit the ' +\n",
              "            '<a target=\"_blank\" href=https://colab.research.google.com/notebooks/data_table.ipynb>data table notebook</a>'\n",
              "            + ' to learn more about interactive tables.';\n",
              "          element.innerHTML = '';\n",
              "          dataTable['output_type'] = 'display_data';\n",
              "          await google.colab.output.renderOutput(dataTable, element);\n",
              "          const docLink = document.createElement('div');\n",
              "          docLink.innerHTML = docLinkHtml;\n",
              "          element.appendChild(docLink);\n",
              "        }\n",
              "      </script>\n",
              "    </div>\n",
              "  </div>\n",
              "  "
            ]
          },
          "metadata": {},
          "execution_count": 20
        }
      ]
    },
    {
      "cell_type": "code",
      "source": [
        "# Save the dataframe as a CSV file\n",
        "tweets_df.to_csv(\"tweets.csv\", index=False)"
      ],
      "metadata": {
        "id": "XinVcRMe0VtG"
      },
      "execution_count": null,
      "outputs": []
    },
    {
      "cell_type": "code",
      "source": [
        "import pandas as pd\n",
        "\n",
        "# Create a sample dataframe with datetime string\n",
        "\n",
        "# Convert datetime string to pandas datetime format\n",
        "tweets_df['Date'] = pd.to_datetime(tweets_df['Date'])\n",
        "\n",
        "# Extract date, time, month, and year columns using pandas dt accessor\n",
        "tweets_df['date'] = tweets_df['Date'].dt.date\n",
        "tweets_df['time'] = tweets_df['Date'].dt.time\n",
        "tweets_df['month'] = tweets_df['Date'].dt.month\n",
        "tweets_df['year'] = tweets_df['Date'].dt.year\n",
        "\n",
        "# Print the resulting dataframe\n",
        "tweets_df.head(5)\n"
      ],
      "metadata": {
        "colab": {
          "base_uri": "https://localhost:8080/",
          "height": 206
        },
        "id": "X2W2pmEN0akB",
        "outputId": "82c9c906-72ee-4b8e-b0fb-a9690f31d31e"
      },
      "execution_count": null,
      "outputs": [
        {
          "output_type": "execute_result",
          "data": {
            "text/plain": [
              "        Date                                               Text  \\\n",
              "0 2023-02-28  When public media try to control your stock by...   \n",
              "1 2022-11-12  https://t.co/uoz6ruxqaw\\n\\nYour new producer.\\...   \n",
              "2 2020-12-06  @ytquiroz So actually I think it could help ot...   \n",
              "3 2019-11-02  According to my very #trusty #weather app @wun...   \n",
              "4 2018-12-04  @ADDerWORLD @FernandoandGreg @JasonDahlstedt #...   \n",
              "\n",
              "         Username                        Location        date      time  \\\n",
              "0          XaevrM                  San Francisco   2023-02-28  00:00:00   \n",
              "1         GKhayut  796 Santiago St. 94116 SF 2022  2022-11-12  00:00:00   \n",
              "2        relajoie                   Palo Alto, CA  2020-12-06  00:00:00   \n",
              "3  AdrianXTristan               San Francisco, CA  2019-11-02  00:00:00   \n",
              "4    JulioFrank83               San Francisco, Ca  2018-12-04  00:00:00   \n",
              "\n",
              "   month  year  \n",
              "0      2  2023  \n",
              "1     11  2022  \n",
              "2     12  2020  \n",
              "3     11  2019  \n",
              "4     12  2018  "
            ],
            "text/html": [
              "\n",
              "  <div id=\"df-5d2d06ef-05f5-47b0-a5df-c2f36a1a7bdd\">\n",
              "    <div class=\"colab-df-container\">\n",
              "      <div>\n",
              "<style scoped>\n",
              "    .dataframe tbody tr th:only-of-type {\n",
              "        vertical-align: middle;\n",
              "    }\n",
              "\n",
              "    .dataframe tbody tr th {\n",
              "        vertical-align: top;\n",
              "    }\n",
              "\n",
              "    .dataframe thead th {\n",
              "        text-align: right;\n",
              "    }\n",
              "</style>\n",
              "<table border=\"1\" class=\"dataframe\">\n",
              "  <thead>\n",
              "    <tr style=\"text-align: right;\">\n",
              "      <th></th>\n",
              "      <th>Date</th>\n",
              "      <th>Text</th>\n",
              "      <th>Username</th>\n",
              "      <th>Location</th>\n",
              "      <th>date</th>\n",
              "      <th>time</th>\n",
              "      <th>month</th>\n",
              "      <th>year</th>\n",
              "    </tr>\n",
              "  </thead>\n",
              "  <tbody>\n",
              "    <tr>\n",
              "      <th>0</th>\n",
              "      <td>2023-02-28</td>\n",
              "      <td>When public media try to control your stock by...</td>\n",
              "      <td>XaevrM</td>\n",
              "      <td>San Francisco</td>\n",
              "      <td>2023-02-28</td>\n",
              "      <td>00:00:00</td>\n",
              "      <td>2</td>\n",
              "      <td>2023</td>\n",
              "    </tr>\n",
              "    <tr>\n",
              "      <th>1</th>\n",
              "      <td>2022-11-12</td>\n",
              "      <td>https://t.co/uoz6ruxqaw\\n\\nYour new producer.\\...</td>\n",
              "      <td>GKhayut</td>\n",
              "      <td>796 Santiago St. 94116 SF 2022</td>\n",
              "      <td>2022-11-12</td>\n",
              "      <td>00:00:00</td>\n",
              "      <td>11</td>\n",
              "      <td>2022</td>\n",
              "    </tr>\n",
              "    <tr>\n",
              "      <th>2</th>\n",
              "      <td>2020-12-06</td>\n",
              "      <td>@ytquiroz So actually I think it could help ot...</td>\n",
              "      <td>relajoie</td>\n",
              "      <td>Palo Alto, CA</td>\n",
              "      <td>2020-12-06</td>\n",
              "      <td>00:00:00</td>\n",
              "      <td>12</td>\n",
              "      <td>2020</td>\n",
              "    </tr>\n",
              "    <tr>\n",
              "      <th>3</th>\n",
              "      <td>2019-11-02</td>\n",
              "      <td>According to my very #trusty #weather app @wun...</td>\n",
              "      <td>AdrianXTristan</td>\n",
              "      <td>San Francisco, CA</td>\n",
              "      <td>2019-11-02</td>\n",
              "      <td>00:00:00</td>\n",
              "      <td>11</td>\n",
              "      <td>2019</td>\n",
              "    </tr>\n",
              "    <tr>\n",
              "      <th>4</th>\n",
              "      <td>2018-12-04</td>\n",
              "      <td>@ADDerWORLD @FernandoandGreg @JasonDahlstedt #...</td>\n",
              "      <td>JulioFrank83</td>\n",
              "      <td>San Francisco, Ca</td>\n",
              "      <td>2018-12-04</td>\n",
              "      <td>00:00:00</td>\n",
              "      <td>12</td>\n",
              "      <td>2018</td>\n",
              "    </tr>\n",
              "  </tbody>\n",
              "</table>\n",
              "</div>\n",
              "      <button class=\"colab-df-convert\" onclick=\"convertToInteractive('df-5d2d06ef-05f5-47b0-a5df-c2f36a1a7bdd')\"\n",
              "              title=\"Convert this dataframe to an interactive table.\"\n",
              "              style=\"display:none;\">\n",
              "        \n",
              "  <svg xmlns=\"http://www.w3.org/2000/svg\" height=\"24px\"viewBox=\"0 0 24 24\"\n",
              "       width=\"24px\">\n",
              "    <path d=\"M0 0h24v24H0V0z\" fill=\"none\"/>\n",
              "    <path d=\"M18.56 5.44l.94 2.06.94-2.06 2.06-.94-2.06-.94-.94-2.06-.94 2.06-2.06.94zm-11 1L8.5 8.5l.94-2.06 2.06-.94-2.06-.94L8.5 2.5l-.94 2.06-2.06.94zm10 10l.94 2.06.94-2.06 2.06-.94-2.06-.94-.94-2.06-.94 2.06-2.06.94z\"/><path d=\"M17.41 7.96l-1.37-1.37c-.4-.4-.92-.59-1.43-.59-.52 0-1.04.2-1.43.59L10.3 9.45l-7.72 7.72c-.78.78-.78 2.05 0 2.83L4 21.41c.39.39.9.59 1.41.59.51 0 1.02-.2 1.41-.59l7.78-7.78 2.81-2.81c.8-.78.8-2.07 0-2.86zM5.41 20L4 18.59l7.72-7.72 1.47 1.35L5.41 20z\"/>\n",
              "  </svg>\n",
              "      </button>\n",
              "      \n",
              "  <style>\n",
              "    .colab-df-container {\n",
              "      display:flex;\n",
              "      flex-wrap:wrap;\n",
              "      gap: 12px;\n",
              "    }\n",
              "\n",
              "    .colab-df-convert {\n",
              "      background-color: #E8F0FE;\n",
              "      border: none;\n",
              "      border-radius: 50%;\n",
              "      cursor: pointer;\n",
              "      display: none;\n",
              "      fill: #1967D2;\n",
              "      height: 32px;\n",
              "      padding: 0 0 0 0;\n",
              "      width: 32px;\n",
              "    }\n",
              "\n",
              "    .colab-df-convert:hover {\n",
              "      background-color: #E2EBFA;\n",
              "      box-shadow: 0px 1px 2px rgba(60, 64, 67, 0.3), 0px 1px 3px 1px rgba(60, 64, 67, 0.15);\n",
              "      fill: #174EA6;\n",
              "    }\n",
              "\n",
              "    [theme=dark] .colab-df-convert {\n",
              "      background-color: #3B4455;\n",
              "      fill: #D2E3FC;\n",
              "    }\n",
              "\n",
              "    [theme=dark] .colab-df-convert:hover {\n",
              "      background-color: #434B5C;\n",
              "      box-shadow: 0px 1px 3px 1px rgba(0, 0, 0, 0.15);\n",
              "      filter: drop-shadow(0px 1px 2px rgba(0, 0, 0, 0.3));\n",
              "      fill: #FFFFFF;\n",
              "    }\n",
              "  </style>\n",
              "\n",
              "      <script>\n",
              "        const buttonEl =\n",
              "          document.querySelector('#df-5d2d06ef-05f5-47b0-a5df-c2f36a1a7bdd button.colab-df-convert');\n",
              "        buttonEl.style.display =\n",
              "          google.colab.kernel.accessAllowed ? 'block' : 'none';\n",
              "\n",
              "        async function convertToInteractive(key) {\n",
              "          const element = document.querySelector('#df-5d2d06ef-05f5-47b0-a5df-c2f36a1a7bdd');\n",
              "          const dataTable =\n",
              "            await google.colab.kernel.invokeFunction('convertToInteractive',\n",
              "                                                     [key], {});\n",
              "          if (!dataTable) return;\n",
              "\n",
              "          const docLinkHtml = 'Like what you see? Visit the ' +\n",
              "            '<a target=\"_blank\" href=https://colab.research.google.com/notebooks/data_table.ipynb>data table notebook</a>'\n",
              "            + ' to learn more about interactive tables.';\n",
              "          element.innerHTML = '';\n",
              "          dataTable['output_type'] = 'display_data';\n",
              "          await google.colab.output.renderOutput(dataTable, element);\n",
              "          const docLink = document.createElement('div');\n",
              "          docLink.innerHTML = docLinkHtml;\n",
              "          element.appendChild(docLink);\n",
              "        }\n",
              "      </script>\n",
              "    </div>\n",
              "  </div>\n",
              "  "
            ]
          },
          "metadata": {},
          "execution_count": 27
        }
      ]
    },
    {
      "cell_type": "code",
      "source": [
        "print(tweets_df['Text'])"
      ],
      "metadata": {
        "colab": {
          "base_uri": "https://localhost:8080/"
        },
        "id": "lzgywMx41yE7",
        "outputId": "cbe41071-edc0-4dc7-e9c9-774bbaa3cc7a"
      },
      "execution_count": null,
      "outputs": [
        {
          "output_type": "stream",
          "name": "stdout",
          "text": [
            "0     When public media try to control your stock by...\n",
            "1     https://t.co/uoz6ruxqaw\\n\\nYour new producer.\\...\n",
            "2     @ytquiroz So actually I think it could help ot...\n",
            "3     According to my very #trusty #weather app @wun...\n",
            "4     @ADDerWORLD @FernandoandGreg @JasonDahlstedt #...\n",
            "5     One of the most important actions, things a le...\n",
            "6     @JackShmidt2 this is a perfect #example of my ...\n",
            "7     @realDonaldTrump #leadership by #example #auth...\n",
            "8     @KatieUtehs @OUSDNews @Athletics Gotta #forgiv...\n",
            "9     Don't tell your team that you are working on i...\n",
            "10    One more #shocking #example of what #processed...\n",
            "11    The #ACHA / #TrumpCare is a #prime #example of...\n",
            "12    #example of collecting data, and research hist...\n",
            "13    When #police is #example #howNOTtodo. #thanks ...\n",
            "14    #example not #opinions 💯 @ Oakland, California...\n",
            "15    That's an #example of #teamwork making the #dr...\n",
            "16    @tonylowephoto I was looking at ur pics what i...\n",
            "17    @sexystellax U R a great #example that #HardWo...\n",
            "18    Thanks @jack for keeping our streets clean. #e...\n",
            "19    #example of why I found the #conversestore #co...\n",
            "20    The #History of the #Golden #Gate #Bridge, it ...\n",
            "21    yes! “@Chavih: Create \"ambassadors\" within you...\n",
            "22    #ghettotranslations Dayum g that shit #fye #ex...\n",
            "Name: Text, dtype: object\n"
          ]
        }
      ]
    },
    {
      "cell_type": "markdown",
      "source": [
        "##Cleaning Text"
      ],
      "metadata": {
        "id": "YXF3-omD2_ig"
      }
    },
    {
      "cell_type": "code",
      "source": [
        "import re\n",
        "\n",
        "def clean_text(text):\n",
        "    # Remove URLs\n",
        "    text = re.sub(r'http\\S+', '', text)\n",
        "    \n",
        "    # Remove mentions and hashtags\n",
        "    text = re.sub(r'@\\w+|#\\w+', '', text)\n",
        "    \n",
        "    # Remove punctuation\n",
        "    text = re.sub(r'[^\\w\\s]', '', text)\n",
        "    \n",
        "    # Convert to lowercase\n",
        "    text = text.lower()\n",
        "    \n",
        "    # Remove leading/trailing white space\n",
        "    text = text.strip()\n",
        "    \n",
        "    return text\n",
        "\n",
        "tweets_df['Clean Text'] = tweets_df['Text'].apply(clean_text)\n",
        "tweets_df.head(5)"
      ],
      "metadata": {
        "colab": {
          "base_uri": "https://localhost:8080/",
          "height": 206
        },
        "id": "1oyBwQ1y2zAH",
        "outputId": "b077fc2b-8a50-4763-9c30-ca192ca4df6f"
      },
      "execution_count": null,
      "outputs": [
        {
          "output_type": "execute_result",
          "data": {
            "text/plain": [
              "         Date                                               Text  \\\n",
              "0  2023-02-28  When public media try to control your stock by...   \n",
              "1  2022-11-12  https://t.co/uoz6ruxqaw\\n\\nYour new producer.\\...   \n",
              "2  2020-12-06  @ytquiroz So actually I think it could help ot...   \n",
              "3  2019-11-02  According to my very #trusty #weather app @wun...   \n",
              "4  2018-12-04  @ADDerWORLD @FernandoandGreg @JasonDahlstedt #...   \n",
              "\n",
              "         Username                        Location  \\\n",
              "0          XaevrM                  San Francisco    \n",
              "1         GKhayut  796 Santiago St. 94116 SF 2022   \n",
              "2        relajoie                   Palo Alto, CA   \n",
              "3  AdrianXTristan               San Francisco, CA   \n",
              "4    JulioFrank83               San Francisco, Ca   \n",
              "\n",
              "                                          Clean Text  \n",
              "0  when public media try to control your stock by...  \n",
              "1  your new producer\\n\\nиыыыыгорь\\n\\nsurrender th...  \n",
              "2  so actually i think it could help others to se...  \n",
              "3  according to my very   app  it felt like   deg...  \n",
              "4  funny how things happen unexpectedly and we do...  "
            ],
            "text/html": [
              "\n",
              "  <div id=\"df-cf02dcda-ed41-47c6-b4e3-1667fa527c50\">\n",
              "    <div class=\"colab-df-container\">\n",
              "      <div>\n",
              "<style scoped>\n",
              "    .dataframe tbody tr th:only-of-type {\n",
              "        vertical-align: middle;\n",
              "    }\n",
              "\n",
              "    .dataframe tbody tr th {\n",
              "        vertical-align: top;\n",
              "    }\n",
              "\n",
              "    .dataframe thead th {\n",
              "        text-align: right;\n",
              "    }\n",
              "</style>\n",
              "<table border=\"1\" class=\"dataframe\">\n",
              "  <thead>\n",
              "    <tr style=\"text-align: right;\">\n",
              "      <th></th>\n",
              "      <th>Date</th>\n",
              "      <th>Text</th>\n",
              "      <th>Username</th>\n",
              "      <th>Location</th>\n",
              "      <th>Clean Text</th>\n",
              "    </tr>\n",
              "  </thead>\n",
              "  <tbody>\n",
              "    <tr>\n",
              "      <th>0</th>\n",
              "      <td>2023-02-28</td>\n",
              "      <td>When public media try to control your stock by...</td>\n",
              "      <td>XaevrM</td>\n",
              "      <td>San Francisco</td>\n",
              "      <td>when public media try to control your stock by...</td>\n",
              "    </tr>\n",
              "    <tr>\n",
              "      <th>1</th>\n",
              "      <td>2022-11-12</td>\n",
              "      <td>https://t.co/uoz6ruxqaw\\n\\nYour new producer.\\...</td>\n",
              "      <td>GKhayut</td>\n",
              "      <td>796 Santiago St. 94116 SF 2022</td>\n",
              "      <td>your new producer\\n\\nиыыыыгорь\\n\\nsurrender th...</td>\n",
              "    </tr>\n",
              "    <tr>\n",
              "      <th>2</th>\n",
              "      <td>2020-12-06</td>\n",
              "      <td>@ytquiroz So actually I think it could help ot...</td>\n",
              "      <td>relajoie</td>\n",
              "      <td>Palo Alto, CA</td>\n",
              "      <td>so actually i think it could help others to se...</td>\n",
              "    </tr>\n",
              "    <tr>\n",
              "      <th>3</th>\n",
              "      <td>2019-11-02</td>\n",
              "      <td>According to my very #trusty #weather app @wun...</td>\n",
              "      <td>AdrianXTristan</td>\n",
              "      <td>San Francisco, CA</td>\n",
              "      <td>according to my very   app  it felt like   deg...</td>\n",
              "    </tr>\n",
              "    <tr>\n",
              "      <th>4</th>\n",
              "      <td>2018-12-04</td>\n",
              "      <td>@ADDerWORLD @FernandoandGreg @JasonDahlstedt #...</td>\n",
              "      <td>JulioFrank83</td>\n",
              "      <td>San Francisco, Ca</td>\n",
              "      <td>funny how things happen unexpectedly and we do...</td>\n",
              "    </tr>\n",
              "  </tbody>\n",
              "</table>\n",
              "</div>\n",
              "      <button class=\"colab-df-convert\" onclick=\"convertToInteractive('df-cf02dcda-ed41-47c6-b4e3-1667fa527c50')\"\n",
              "              title=\"Convert this dataframe to an interactive table.\"\n",
              "              style=\"display:none;\">\n",
              "        \n",
              "  <svg xmlns=\"http://www.w3.org/2000/svg\" height=\"24px\"viewBox=\"0 0 24 24\"\n",
              "       width=\"24px\">\n",
              "    <path d=\"M0 0h24v24H0V0z\" fill=\"none\"/>\n",
              "    <path d=\"M18.56 5.44l.94 2.06.94-2.06 2.06-.94-2.06-.94-.94-2.06-.94 2.06-2.06.94zm-11 1L8.5 8.5l.94-2.06 2.06-.94-2.06-.94L8.5 2.5l-.94 2.06-2.06.94zm10 10l.94 2.06.94-2.06 2.06-.94-2.06-.94-.94-2.06-.94 2.06-2.06.94z\"/><path d=\"M17.41 7.96l-1.37-1.37c-.4-.4-.92-.59-1.43-.59-.52 0-1.04.2-1.43.59L10.3 9.45l-7.72 7.72c-.78.78-.78 2.05 0 2.83L4 21.41c.39.39.9.59 1.41.59.51 0 1.02-.2 1.41-.59l7.78-7.78 2.81-2.81c.8-.78.8-2.07 0-2.86zM5.41 20L4 18.59l7.72-7.72 1.47 1.35L5.41 20z\"/>\n",
              "  </svg>\n",
              "      </button>\n",
              "      \n",
              "  <style>\n",
              "    .colab-df-container {\n",
              "      display:flex;\n",
              "      flex-wrap:wrap;\n",
              "      gap: 12px;\n",
              "    }\n",
              "\n",
              "    .colab-df-convert {\n",
              "      background-color: #E8F0FE;\n",
              "      border: none;\n",
              "      border-radius: 50%;\n",
              "      cursor: pointer;\n",
              "      display: none;\n",
              "      fill: #1967D2;\n",
              "      height: 32px;\n",
              "      padding: 0 0 0 0;\n",
              "      width: 32px;\n",
              "    }\n",
              "\n",
              "    .colab-df-convert:hover {\n",
              "      background-color: #E2EBFA;\n",
              "      box-shadow: 0px 1px 2px rgba(60, 64, 67, 0.3), 0px 1px 3px 1px rgba(60, 64, 67, 0.15);\n",
              "      fill: #174EA6;\n",
              "    }\n",
              "\n",
              "    [theme=dark] .colab-df-convert {\n",
              "      background-color: #3B4455;\n",
              "      fill: #D2E3FC;\n",
              "    }\n",
              "\n",
              "    [theme=dark] .colab-df-convert:hover {\n",
              "      background-color: #434B5C;\n",
              "      box-shadow: 0px 1px 3px 1px rgba(0, 0, 0, 0.15);\n",
              "      filter: drop-shadow(0px 1px 2px rgba(0, 0, 0, 0.3));\n",
              "      fill: #FFFFFF;\n",
              "    }\n",
              "  </style>\n",
              "\n",
              "      <script>\n",
              "        const buttonEl =\n",
              "          document.querySelector('#df-cf02dcda-ed41-47c6-b4e3-1667fa527c50 button.colab-df-convert');\n",
              "        buttonEl.style.display =\n",
              "          google.colab.kernel.accessAllowed ? 'block' : 'none';\n",
              "\n",
              "        async function convertToInteractive(key) {\n",
              "          const element = document.querySelector('#df-cf02dcda-ed41-47c6-b4e3-1667fa527c50');\n",
              "          const dataTable =\n",
              "            await google.colab.kernel.invokeFunction('convertToInteractive',\n",
              "                                                     [key], {});\n",
              "          if (!dataTable) return;\n",
              "\n",
              "          const docLinkHtml = 'Like what you see? Visit the ' +\n",
              "            '<a target=\"_blank\" href=https://colab.research.google.com/notebooks/data_table.ipynb>data table notebook</a>'\n",
              "            + ' to learn more about interactive tables.';\n",
              "          element.innerHTML = '';\n",
              "          dataTable['output_type'] = 'display_data';\n",
              "          await google.colab.output.renderOutput(dataTable, element);\n",
              "          const docLink = document.createElement('div');\n",
              "          docLink.innerHTML = docLinkHtml;\n",
              "          element.appendChild(docLink);\n",
              "        }\n",
              "      </script>\n",
              "    </div>\n",
              "  </div>\n",
              "  "
            ]
          },
          "metadata": {},
          "execution_count": 36
        }
      ]
    },
    {
      "cell_type": "code",
      "source": [],
      "metadata": {
        "id": "hoql5vFo4D-B"
      },
      "execution_count": null,
      "outputs": []
    },
    {
      "cell_type": "code",
      "source": [
        "import pandas as pd\n",
        "import matplotlib.pyplot as plt\n",
        "\n",
        "# Load the tweets data from the CSV file\n",
        "\n",
        "\n",
        "# Count the number of tweets from each location\n",
        "location_counts = tweets_df['Location'].value_counts()\n",
        "\n",
        "# Plot a horizontal bar chart of the location counts\n",
        "location_counts.plot(kind='barh', figsize=(10,8))\n",
        "\n",
        "# Set the chart title and axis labels\n",
        "plt.title('Number of Tweets by Location')\n",
        "plt.xlabel('Number of Tweets')\n",
        "plt.ylabel('Location')\n",
        "\n",
        "# Show the chart\n",
        "plt.show()\n"
      ],
      "metadata": {
        "colab": {
          "base_uri": "https://localhost:8080/",
          "height": 513
        },
        "id": "Z5UzwvH03Dfx",
        "outputId": "31afc529-499d-40df-f3e6-fafd316d518b"
      },
      "execution_count": null,
      "outputs": [
        {
          "output_type": "display_data",
          "data": {
            "text/plain": [
              "<Figure size 720x576 with 1 Axes>"
            ],
            "image/png": "[encoded data removed]"
          },
          "metadata": {
            "needs_background": "light"
          }
        }
      ]
    },
    {
      "cell_type": "code",
      "source": [
        "import pandas as pd\n",
        "import matplotlib.pyplot as plt\n",
        "import seaborn as sns\n",
        "from nltk.tokenize import word_tokenize\n",
        "from collections import Counter\n",
        "from textblob import TextBlob\n",
        "import nltk\n",
        "nltk.download('punkt')\n",
        "\n",
        "\n",
        "# Load the data into a pandas dataframe\n",
        "df = pd.read_csv('tweets.csv')\n",
        "\n",
        "# Check the distribution of tweets across time\n",
        "df['Date'] = pd.to_datetime(df['Date'])\n",
        "df['Year'] = df['Date'].dt.year\n",
        "df['Month'] = df['Date'].dt.month_name()\n",
        "df['Day'] = df['Date'].dt.day_name()\n",
        "\n",
        "# Year\n",
        "plt.figure(figsize=(10, 6))\n",
        "sns.countplot(x='Year', data=df)\n",
        "plt.title('Distribution of tweets across years')\n",
        "plt.show()\n",
        "\n",
        "# Month\n",
        "plt.figure(figsize=(10, 6))\n",
        "sns.countplot(x='Month', data=df)\n",
        "plt.title('Distribution of tweets across months')\n",
        "plt.show()\n",
        "\n",
        "# Day\n",
        "plt.figure(figsize=(10, 6))\n",
        "sns.countplot(x='Day', data=df)\n",
        "plt.title('Distribution of tweets across days')\n",
        "plt.show()\n",
        "\n",
        "# Check the most frequent locations of the tweets and the users\n",
        "plt.figure(figsize=(10, 6))\n",
        "sns.countplot(y='Location', data=df, order=df['Location'].value_counts().iloc[:10].index)\n",
        "plt.title('Most frequent locations of the tweets')\n",
        "plt.show()\n",
        "\n",
        "plt.figure(figsize=(10, 6))\n",
        "sns.countplot(y='Username', data=df, order=df['Username'].value_counts().iloc[:10].index)\n",
        "plt.title('Most frequent users')\n",
        "plt.show()\n",
        "\n",
        "import re\n",
        "\n",
        "def clean_text(text):\n",
        "    # Remove URLs\n",
        "    text = re.sub(r'http\\S+', '', text)\n",
        "    \n",
        "    # Remove mentions and hashtags\n",
        "    text = re.sub(r'@\\w+|#\\w+', '', text)\n",
        "    \n",
        "    # Remove punctuation\n",
        "    text = re.sub(r'[^\\w\\s]', '', text)\n",
        "    \n",
        "    # Convert to lowercase\n",
        "    text = text.lower()\n",
        "    \n",
        "    # Remove leading/trailing white space\n",
        "    text = text.strip()\n",
        "    \n",
        "    return text\n",
        "\n",
        "df['Clean Text'] = df['Text'].apply(clean_text)\n",
        "df.head(5)\n",
        "\n",
        "# Check the most common words used in the tweets\n",
        "tokens = []\n",
        "for text in df['Clean Text']:\n",
        "    tokens.extend(word_tokenize(text.lower()))\n",
        "\n",
        "word_counts = Counter(tokens)\n",
        "common_words = dict(word_counts.most_common(20))\n",
        "\n",
        "plt.figure(figsize=(10, 6))\n",
        "sns.barplot(x=list(common_words.keys()), y=list(common_words.values()))\n",
        "plt.title('Most common words in the tweets')\n",
        "plt.xticks(rotation=45)\n",
        "plt.show()\n",
        "\n",
        "# Check the distribution of tweet lengths\n",
        "df['Length'] = df['Clean Text'].apply(lambda x: len(x))\n",
        "plt.figure(figsize=(10, 6))\n",
        "sns.histplot(x='Length', data=df, bins=30)\n",
        "plt.title('Distribution of tweet lengths')\n",
        "plt.show()\n",
        "\n",
        "# Check the most mentioned users and hashtags\n",
        "hashtags = []\n",
        "mentions = []\n",
        "\n",
        "for text in df['Clean Text']:\n",
        "    tokens = word_tokenize(text)\n",
        "    hashtags.extend([token[1:] for token in tokens if token.startswith('#')])\n",
        "    mentions.extend([token[1:] for token in tokens if token.startswith('@')])\n",
        "\n",
        "\n",
        "\n",
        "# Check the sentiment of the tweets\n",
        "polarity = []\n",
        "subjectivity = []\n",
        "for text in df['Clean Text']:\n",
        "    blob = TextBlob(text)\n",
        "    polarity.append(blob.sentiment.polarity)\n",
        "    subjectivity.append(blob.sentiment.subjectivity)\n",
        "\n",
        "df['Polarity'] = polarity\n",
        "df['Subjectivity'] = subjectivity\n",
        "\n",
        "plt.figure(figsize=(10, 6))\n",
        "sns.histplot(x='Polarity', data=df, bins=30)\n",
        "plt.title('Distribution of tweet polarity')\n",
        "plt.show()"
      ],
      "metadata": {
        "colab": {
          "base_uri": "https://localhost:8080/",
          "height": 1000
        },
        "id": "5YsCMeo13rOA",
        "outputId": "32fad34d-c71b-49f2-eaa1-7f4b8afbdb98"
      },
      "execution_count": null,
      "outputs": [
        {
          "output_type": "stream",
          "name": "stderr",
          "text": [
            "[nltk_data] Downloading package punkt to /root/nltk_data...\n",
            "[nltk_data]   Package punkt is already up-to-date!\n"
          ]
        },
        {
          "output_type": "display_data",
          "data": {
            "text/plain": [
              "<Figure size 720x432 with 1 Axes>"
            ],
            "image/png": "[encoded data removed]"
          },
          "metadata": {
            "needs_background": "light"
          }
        },
        {
          "output_type": "display_data",
          "data": {
            "text/plain": [
              "<Figure size 720x432 with 1 Axes>"
            ],
            "image/png": "[encoded data removed]"
          },
          "metadata": {
            "needs_background": "light"
          }
        },
        {
          "output_type": "display_data",
          "data": {
            "text/plain": [
              "<Figure size 720x432 with 1 Axes>"
            ],
            "image/png": "[encoded data removed]"
          },
          "metadata": {
            "needs_background": "light"
          }
        },
        {
          "output_type": "display_data",
          "data": {
            "text/plain": [
              "<Figure size 720x432 with 1 Axes>"
            ],
            "image/png": "[encoded data removed]"
          },
          "metadata": {
            "needs_background": "light"
          }
        },
        {
          "output_type": "display_data",
          "data": {
            "text/plain": [
              "<Figure size 720x432 with 1 Axes>"
            ],
            "image/png": "[encoded data removed]"
          },
          "metadata": {
            "needs_background": "light"
          }
        },
        {
          "output_type": "display_data",
          "data": {
            "text/plain": [
              "<Figure size 720x432 with 1 Axes>"
            ],
            "image/png": "[encoded data removed]"
          },
          "metadata": {
            "needs_background": "light"
          }
        },
        {
          "output_type": "display_data",
          "data": {
            "text/plain": [
              "<Figure size 720x432 with 1 Axes>"
            ],
            "image/png": "[encoded data removed]"
          },
          "metadata": {
            "needs_background": "light"
          }
        },
        {
          "output_type": "display_data",
          "data": {
            "text/plain": [
              "<Figure size 720x432 with 1 Axes>"
            ],
            "image/png": "[encoded data removed]"
          },
          "metadata": {
            "needs_background": "light"
          }
        }
      ]
    },
    {
      "cell_type": "code",
      "source": [
        "# Import necessary libraries\n",
        "import pandas as pd\n",
        "import numpy as np\n",
        "import matplotlib.pyplot as plt\n",
        "import seaborn as sns\n",
        "from collections import Counter\n",
        "from textblob import TextBlob\n",
        "\n",
        "# Load the data into a pandas dataframe\n",
        "df = pd.read_csv('tweets.csv')\n",
        "\n",
        "# Print the first few rows of the dataframe\n",
        "print(df.head())\n",
        "\n",
        "# Define a function to clean the text of each tweet\n",
        "def clean_text(text):\n",
        "    # Convert the text to lowercase\n",
        "    text = text.lower()\n",
        "    # Remove any URLs\n",
        "    text = re.sub(r'http\\S+', '', text)\n",
        "    # Remove any mentions of usernames\n",
        "    text = re.sub(r'@\\S+', '', text)\n",
        "    # Remove any hashtags\n",
        "    text = re.sub(r'#\\S+', '', text)\n",
        "    # Remove any punctuation\n",
        "    text = re.sub(r'[^\\w\\s]', '', text)\n",
        "    # Remove any numbers\n",
        "    text = re.sub(r'\\d+', '', text)\n",
        "    # Remove any extra whitespace\n",
        "    text = text.strip()\n",
        "    return text\n",
        "\n",
        "# Apply the clean_text function to the 'text' column of the dataframe\n",
        "df['Clean Text'] = df['Text'].apply(clean_text)\n",
        "\n",
        "# Create a list of all hashtags and mentions in the tweets\n",
        "hashtags = []\n",
        "mentions = []\n",
        "for text in df['Clean Text']:\n",
        "    # Use regular expressions to find all hashtags and mentions in the text\n",
        "    hashtags += re.findall(r'#\\S+', text)\n",
        "    mentions += re.findall(r'@\\S+', text)"
      ],
      "metadata": {
        "colab": {
          "base_uri": "https://localhost:8080/"
        },
        "id": "MJ1_AnHd5DyU",
        "outputId": "9d6f3d19-925f-44ef-cced-aff1653e6122"
      },
      "execution_count": null,
      "outputs": [
        {
          "output_type": "stream",
          "name": "stdout",
          "text": [
            "         Date                                               Text  \\\n",
            "0  2023-02-28  When public media try to control your stock by...   \n",
            "1  2022-11-12  https://t.co/uoz6ruxqaw\\n\\nYour new producer.\\...   \n",
            "2  2020-12-06  @ytquiroz So actually I think it could help ot...   \n",
            "3  2019-11-02  According to my very #trusty #weather app @wun...   \n",
            "4  2018-12-04  @ADDerWORLD @FernandoandGreg @JasonDahlstedt #...   \n",
            "\n",
            "         Username                        Location  \n",
            "0          XaevrM                  San Francisco   \n",
            "1         GKhayut  796 Santiago St. 94116 SF 2022  \n",
            "2        relajoie                   Palo Alto, CA  \n",
            "3  AdrianXTristan               San Francisco, CA  \n",
            "4    JulioFrank83               San Francisco, Ca  \n"
          ]
        },
        {
          "output_type": "execute_result",
          "data": {
            "text/plain": [
              "{}"
            ]
          },
          "metadata": {},
          "execution_count": 48
        }
      ]
    },
    {
      "cell_type": "code",
      "source": [
        "# Calculate the polarity and subjectivity of each tweet using TextBlob\n",
        "polarity = []\n",
        "subjectivity = []\n",
        "for text in df['Clean Text']:\n",
        "    blob = TextBlob(text)\n",
        "    polarity.append(blob.sentiment.polarity)\n",
        "    subjectivity.append(blob.sentiment.subjectivity)\n",
        "\n",
        "# Add the polarity and subjectivity columns to the dataframe\n",
        "df['Polarity'] = polarity\n",
        "df['Subjectivity'] = subjectivity\n",
        "\n",
        "# Plot a histogram of the tweet polarities\n",
        "plt.figure(figsize=(10, 6))\n",
        "sns.histplot(x='Polarity', data=df, bins=30)\n",
        "plt.title('Distribution of tweet polarity')\n",
        "plt.show()\n"
      ],
      "metadata": {
        "colab": {
          "base_uri": "https://localhost:8080/",
          "height": 404
        },
        "id": "zJ3uQK-W6aQz",
        "outputId": "19c438f7-ef57-4640-a31d-069d4080204e"
      },
      "execution_count": null,
      "outputs": [
        {
          "output_type": "display_data",
          "data": {
            "text/plain": [
              "<Figure size 720x432 with 1 Axes>"
            ],
            "image/png": "[encoded data removed]"
          },
          "metadata": {
            "needs_background": "light"
          }
        }
      ]
    },
    {
      "cell_type": "code",
      "source": [],
      "metadata": {
        "id": "Z7ueGxn96vAy"
      },
      "execution_count": null,
      "outputs": []
    }
  ]
}